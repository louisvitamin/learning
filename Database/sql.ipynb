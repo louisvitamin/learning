{
 "cells": [
  {
   "cell_type": "markdown",
   "metadata": {},
   "source": [
    "# Class 8 Notebook 3: SparkSQL\n",
    "\n",
    "Class 8 (7 Dec 2016) of [BS1804-1617 Fundamentals of Database Technologies](https://imperialbusiness.school/category/bs1804-1617/) by [Piotr Migdal](http://p.migdal.pl/)\n",
    "\n",
    "References:\n",
    "\n",
    "* [Spark SQL, DataFrames and Datasets Guide - Spark Programming Guide](http://spark.apache.org/docs/latest/sql-programming-guide.html)\n",
    "* [PySpark - SQL module](http://spark.apache.org/docs/latest/api/python/pyspark.sql.html)"
   ]
  },
  {
   "cell_type": "code",
   "execution_count": 1,
   "metadata": {
    "collapsed": false
   },
   "outputs": [
    {
     "name": "stdout",
     "output_type": "stream",
     "text": [
      "--2016-12-11 20:52:39--  https://s3.amazonaws.com/pmigdal/city.json\n",
      "Resolving s3.amazonaws.com (s3.amazonaws.com)... 54.231.49.51\n",
      "Connecting to s3.amazonaws.com (s3.amazonaws.com)|54.231.49.51|:443... connected.\n",
      "HTTP request sent, awaiting response... 200 OK\n",
      "Length: 381063 (372K) [application/octet-stream]\n",
      "Saving to: ‘/tmp/city.json.1’\n",
      "\n",
      "/tmp/city.json.1    100%[=====================>] 372.13K   337KB/s   in 1.1s   \n",
      "\n",
      "2016-12-11 20:52:46 (337 KB/s) - ‘/tmp/city.json.1’ saved [381063/381063]\n",
      "\n",
      "--2016-12-11 20:52:46--  https://s3.amazonaws.com/pmigdal/country.json\n",
      "Resolving s3.amazonaws.com (s3.amazonaws.com)... 52.216.0.139\n",
      "Connecting to s3.amazonaws.com (s3.amazonaws.com)|52.216.0.139|:443... connected.\n",
      "HTTP request sent, awaiting response... 200 OK\n",
      "Length: 75715 (74K) [application/octet-stream]\n",
      "Saving to: ‘/tmp/country.json.1’\n",
      "\n",
      "/tmp/country.json.1 100%[=====================>]  73.94K   201KB/s   in 0.4s   \n",
      "\n",
      "2016-12-11 20:52:53 (201 KB/s) - ‘/tmp/country.json.1’ saved [75715/75715]\n",
      "\n",
      "--2016-12-11 20:52:53--  https://s3.amazonaws.com/pmigdal/countrylanguage.json\n",
      "Resolving s3.amazonaws.com (s3.amazonaws.com)... 54.231.33.186\n",
      "Connecting to s3.amazonaws.com (s3.amazonaws.com)|54.231.33.186|:443... connected.\n",
      "HTTP request sent, awaiting response... 200 OK\n",
      "Length: 77725 (76K) [application/octet-stream]\n",
      "Saving to: ‘/tmp/countrylanguage.json.1’\n",
      "\n",
      "/tmp/countrylanguag 100%[=====================>]  75.90K   197KB/s   in 0.4s   \n",
      "\n",
      "2016-12-11 20:52:59 (197 KB/s) - ‘/tmp/countrylanguage.json.1’ saved [77725/77725]\n",
      "\n"
     ]
    }
   ],
   "source": [
    "!wget -P /tmp https://s3.amazonaws.com/pmigdal/city.json\n",
    "!wget -P /tmp https://s3.amazonaws.com/pmigdal/country.json\n",
    "!wget -P /tmp https://s3.amazonaws.com/pmigdal/countrylanguage.json"
   ]
  },
  {
   "cell_type": "code",
   "execution_count": 9,
   "metadata": {
    "collapsed": false
   },
   "outputs": [
    {
     "ename": "NameError",
     "evalue": "name 'sqlContext' is not defined",
     "output_type": "error",
     "traceback": [
      "\u001b[0;31m---------------------------------------------------------------------------\u001b[0m",
      "\u001b[0;31mNameError\u001b[0m                                 Traceback (most recent call last)",
      "\u001b[0;32m<ipython-input-9-89b3cc0ad9e5>\u001b[0m in \u001b[0;36m<module>\u001b[0;34m()\u001b[0m\n\u001b[1;32m      7\u001b[0m \u001b[0;34m\u001b[0m\u001b[0m\n\u001b[1;32m      8\u001b[0m \u001b[0;31m# loading data in SparkSQL\u001b[0m\u001b[0;34m\u001b[0m\u001b[0;34m\u001b[0m\u001b[0m\n\u001b[0;32m----> 9\u001b[0;31m \u001b[0mcity\u001b[0m \u001b[0;34m=\u001b[0m \u001b[0msqlContext\u001b[0m\u001b[0;34m.\u001b[0m\u001b[0mread\u001b[0m\u001b[0;34m.\u001b[0m\u001b[0mjson\u001b[0m\u001b[0;34m(\u001b[0m\u001b[0;34m\"file:/tmp/city.json\"\u001b[0m\u001b[0;34m)\u001b[0m\u001b[0;34m\u001b[0m\u001b[0m\n\u001b[0m\u001b[1;32m     10\u001b[0m \u001b[0;31m# we need to register a table if we want to use global queries\u001b[0m\u001b[0;34m\u001b[0m\u001b[0;34m\u001b[0m\u001b[0m\n\u001b[1;32m     11\u001b[0m \u001b[0;31m# vide: http://blog.revolutionanalytics.com/2016/05/an-object-has-no-name.html\u001b[0m\u001b[0;34m\u001b[0m\u001b[0;34m\u001b[0m\u001b[0m\n",
      "\u001b[0;31mNameError\u001b[0m: name 'sqlContext' is not defined"
     ]
    }
   ],
   "source": [
    "from pyspark import SparkConf, SparkContext\n",
    "from pyspark.sql import SQLContext\n",
    "\n",
    "conf = SparkConf().setAppName(\"building a warehouse\")\n",
    "sc = SparkContext(conf=conf)\n",
    "sqlCtx = SQLContext(sc)\n",
    "\n",
    "\n",
    "# loading data in SparkSQL\n",
    "city = sqlContext.read.json(\"file:/tmp/city.json\")\n",
    "# we need to register a table if we want to use global queries\n",
    "# vide: http://blog.revolutionanalytics.com/2016/05/an-object-has-no-name.html\n",
    "city.registerTempTable(\"city\")\n",
    "# schema (thanks to JSON)\n",
    "city.printSchema()"
   ]
  },
  {
   "cell_type": "code",
   "execution_count": 4,
   "metadata": {
    "collapsed": true
   },
   "outputs": [],
   "source": [
    "country = sqlContext.read.json(\"file:/tmp/country.json\")\n",
    "country.registerTempTable(\"country\")\n",
    "country.printSchema()"
   ]
  },
  {
   "cell_type": "code",
   "execution_count": 5,
   "metadata": {
    "collapsed": true
   },
   "outputs": [],
   "source": [
    "countrylanguage = sqlContext.read.json(\"file:/tmp/countrylanguage.json\")\n",
    "countrylanguage.registerTempTable(\"countrylanguage\")\n",
    "countrylanguage.printSchema()"
   ]
  },
  {
   "cell_type": "code",
   "execution_count": 6,
   "metadata": {
    "collapsed": true
   },
   "outputs": [],
   "source": [
    "# and we can perform normal queries!\n",
    "query = \"\"\"\n",
    "SELECT\n",
    "  countrycode,\n",
    "  COUNT(*) as cities\n",
    "FROM city\n",
    "GROUP BY countrycode\n",
    "ORDER BY COUNT(*) DESC\n",
    "LIMIT 5\n",
    "\"\"\"\n",
    "sqlContext.sql(query).toPandas()"
   ]
  },
  {
   "cell_type": "code",
   "execution_count": 7,
   "metadata": {
    "collapsed": true
   },
   "outputs": [],
   "source": [
    "# there is also another syntax, more Python-like:\n",
    "city.select('name').limit(10).show()"
   ]
  },
  {
   "cell_type": "code",
   "execution_count": 8,
   "metadata": {
    "collapsed": true
   },
   "outputs": [],
   "source": [
    "# also, we can convert the results to Pandas\n",
    "# (instead of showing it)\n",
    "city.select('name').limit(10).toPandas()"
   ]
  },
  {
   "cell_type": "markdown",
   "metadata": {},
   "source": [
    "## Exercises\n",
    "\n",
    "* What is the total population per continent (use `country`, not `city`)?\n",
    "* In which countries in Africa people speak French (>5%)?\n",
    "* What are the biggest cities (population, globally) in countries where people speak English (>5%)?"
   ]
  },
  {
   "cell_type": "code",
   "execution_count": 10,
   "metadata": {
    "collapsed": true
   },
   "outputs": [],
   "source": [
    "query = \"\"\"\n",
    "SELECT\n",
    "  continent,\n",
    "  SUM(population) as population\n",
    "FROM\n",
    "  country\n",
    "GROUP BY continent\n",
    "\"\"\"\n",
    "sqlContext.sql(query).show()"
   ]
  },
  {
   "cell_type": "code",
   "execution_count": 11,
   "metadata": {
    "collapsed": true
   },
   "outputs": [],
   "source": [
    "query = \"\"\"\n",
    "SELECT\n",
    "  country.name,\n",
    "  country.population,\n",
    "  cl.percentage\n",
    "FROM\n",
    "  country\n",
    "INNER JOIN\n",
    "  countrylanguage AS cl ON cl.countrycode = country.code\n",
    "WHERE\n",
    "  cl.language = 'French'\n",
    "  AND country.continent = 'Africa'\n",
    "  AND cl.percentage > 0.05\n",
    "ORDER BY\n",
    "  cl.percentage DESC\n",
    "\"\"\"\n",
    "sqlContext.sql(query).show()"
   ]
  },
  {
   "cell_type": "code",
   "execution_count": 12,
   "metadata": {
    "collapsed": true
   },
   "outputs": [],
   "source": []
  }
 ],
 "metadata": {
  "kernelspec": {
   "display_name": "Python 3",
   "language": "python",
   "name": "python3"
  },
  "language_info": {
   "codemirror_mode": {
    "name": "ipython",
    "version": 3
   },
   "file_extension": ".py",
   "mimetype": "text/x-python",
   "name": "python",
   "nbconvert_exporter": "python",
   "pygments_lexer": "ipython3",
   "version": "3.5.2"
  },
  "name": "5_sql",
  "notebookId": 3088093358452890
 },
 "nbformat": 4,
 "nbformat_minor": 0
}
