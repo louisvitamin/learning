{
 "cells": [
  {
   "cell_type": "markdown",
   "metadata": {},
   "source": [
    "# Class 8 Notebook 1: Working with text file\n",
    "\n",
    "Class 8 (7 Dec 2016) of [BS1804-1617 Fundamentals of Database Technologies](https://imperialbusiness.school/category/bs1804-1617/) by [Piotr Migdal](http://p.migdal.pl/)\n",
    "\n",
    "We will work on [The Tragedy of Romeo and Juliet by William Shakespeare](http://www.gutenberg.org/ebooks/1112) from [Project Gutenberg](https://www.gutenberg.org/).\n",
    "\n",
    "References:\n",
    "\n",
    "* [PySpark list of RDD methods](http://spark.apache.org/docs/latest/api/python/pyspark.html)\n",
    "* [Spark Programming Guide](http://spark.apache.org/docs/latest/programming-guide.html), especially:\n",
    "  * [Transformations and Actions](http://spark.apache.org/docs/latest/programming-guide.html#transformations)\n",
    "\n",
    "First, we need to download this file:"
   ]
  },
  {
   "cell_type": "code",
   "execution_count": 1,
   "metadata": {
    "collapsed": false
   },
   "outputs": [
    {
     "name": "stdout",
     "output_type": "stream",
     "text": [
      "--2016-12-11 19:50:46--  http://www.gutenberg.org/cache/epub/1112/pg1112.txt\n",
      "Resolving www.gutenberg.org (www.gutenberg.org)... 152.19.134.47, 2610:28:3090:3000:0:bad:cafe:47\n",
      "Connecting to www.gutenberg.org (www.gutenberg.org)|152.19.134.47|:80... connected.\n",
      "HTTP request sent, awaiting response... 200 OK\n",
      "Length: 178983 (175K) [text/plain]\n",
      "Saving to: ‘/tmp/romeo_and_juliet.txt’\n",
      "\n",
      "/tmp/romeo_and_juli 100%[=====================>] 174.79K   276KB/s   in 0.6s   \n",
      "\n",
      "2016-12-11 19:50:52 (276 KB/s) - ‘/tmp/romeo_and_juliet.txt’ saved [178983/178983]\n",
      "\n"
     ]
    }
   ],
   "source": [
    "!wget -O /tmp/romeo_and_juliet.txt http://www.gutenberg.org/cache/epub/1112/pg1112.txt"
   ]
  },
  {
   "cell_type": "code",
   "execution_count": 2,
   "metadata": {
    "collapsed": true
   },
   "outputs": [],
   "source": [
    "import pyspark\n",
    "sc = pyspark.SparkContext('local[*]')"
   ]
  },
  {
   "cell_type": "code",
   "execution_count": 3,
   "metadata": {
    "collapsed": true
   },
   "outputs": [],
   "source": [
    "# only an instruction for loading, nothing happends at this point\n",
    "rdd = sc.textFile(\"file:/tmp/romeo_and_juliet.txt\")"
   ]
  },
  {
   "cell_type": "code",
   "execution_count": 4,
   "metadata": {
    "collapsed": false
   },
   "outputs": [
    {
     "data": {
      "text/plain": [
       "4853"
      ]
     },
     "execution_count": 4,
     "metadata": {},
     "output_type": "execute_result"
    }
   ],
   "source": [
    "# the number of lines\n",
    "rdd.count()"
   ]
  },
  {
   "cell_type": "code",
   "execution_count": 5,
   "metadata": {
    "collapsed": false
   },
   "outputs": [
    {
     "data": {
      "text/plain": [
       "['The Project Gutenberg EBook of Romeo and Juliet, by William Shakespeare',\n",
       " '',\n",
       " 'This eBook is for the use of anyone anywhere at no cost and with',\n",
       " 'almost no restrictions whatsoever.  You may copy it, give it away or',\n",
       " 're-use it under the terms of the Project Gutenberg License included',\n",
       " 'with this eBook or online at www.gutenberg.org/license',\n",
       " '',\n",
       " '',\n",
       " 'Title: Romeo and Juliet',\n",
       " '']"
      ]
     },
     "execution_count": 5,
     "metadata": {},
     "output_type": "execute_result"
    }
   ],
   "source": [
    "# it reads file line by line\n",
    "rdd.take(10)"
   ]
  },
  {
   "cell_type": "code",
   "execution_count": 6,
   "metadata": {
    "collapsed": false
   },
   "outputs": [
    {
     "data": {
      "text/plain": [
       "['End of the Project Gutenberg EBook of Romeo and Juliet, by William Shakespeare',\n",
       " '    art thou sociable, now art thou Romeo; now art thou what thou art, by',\n",
       " \"    her into a fool's paradise, as they say, it were a very gross kind of\",\n",
       " \"    an ill thing to be off'red to any gentlewoman, and very weak dealing.\",\n",
       " '    man that hath a hair more or a hair less in his beard than thou hast.']"
      ]
     },
     "execution_count": 6,
     "metadata": {},
     "output_type": "execute_result"
    }
   ],
   "source": [
    "# the longest 5 line\n",
    "rdd.top(5, len)"
   ]
  },
  {
   "cell_type": "code",
   "execution_count": 7,
   "metadata": {
    "collapsed": false
   },
   "outputs": [
    {
     "data": {
      "text/plain": [
       "['  Jul. Three words, dear Romeo, and good night indeed.',\n",
       " '    Prodigious birth of love it is to me',\n",
       " \"    And she steal love's sweet bait from fearful hooks.\",\n",
       " 'such as creation of derivative works, reports, performances and',\n",
       " '    Which, well thou knowest, is cross and full of sin.']"
      ]
     },
     "execution_count": 7,
     "metadata": {},
     "output_type": "execute_result"
    }
   ],
   "source": [
    "rdd.takeSample(False, 5)"
   ]
  },
  {
   "cell_type": "markdown",
   "metadata": {},
   "source": [
    "## Exercises\n",
    "\n",
    "What is:\n",
    "\n",
    "* the number of empty lines?\n",
    "* the number of words? (hint: `flatMap`, `x.split()`)\n",
    "* the number of UPPERCASE words?  (hint: `x.isupper()`)\n",
    "* the 10 most popular words?  (hint: `reduceByKey`, `top`)\n",
    "* count for each letter, sorted alphabetically? (hint: `orderBy`)\n",
    "* count of indentions (hint: `len(x) - len(x.lstrip())`)\n",
    "\n",
    "Additional: [Converting a String to a List of Words? - Stack Overflow](http://stackoverflow.com/questions/6181763/converting-a-string-to-a-list-of-words)"
   ]
  },
  {
   "cell_type": "code",
   "execution_count": 8,
   "metadata": {
    "collapsed": false
   },
   "outputs": [
    {
     "data": {
      "text/plain": [
       "1234"
      ]
     },
     "execution_count": 8,
     "metadata": {},
     "output_type": "execute_result"
    }
   ],
   "source": [
    "rdd.filter(lambda x: x == \"\").count()"
   ]
  },
  {
   "cell_type": "code",
   "execution_count": 9,
   "metadata": {
    "collapsed": false
   },
   "outputs": [
    {
     "data": {
      "text/plain": [
       "28983"
      ]
     },
     "execution_count": 9,
     "metadata": {},
     "output_type": "execute_result"
    }
   ],
   "source": [
    "rdd.flatMap(lambda x: x.split()).count()"
   ]
  },
  {
   "cell_type": "code",
   "execution_count": 10,
   "metadata": {
    "collapsed": false
   },
   "outputs": [
    {
     "data": {
      "text/plain": [
       "1151"
      ]
     },
     "execution_count": 10,
     "metadata": {},
     "output_type": "execute_result"
    }
   ],
   "source": [
    "rdd \\\n",
    "  .flatMap(lambda x: x.split()) \\\n",
    "  .filter(lambda x: x.isupper()) \\\n",
    "  .count()"
   ]
  },
  {
   "cell_type": "code",
   "execution_count": 11,
   "metadata": {
    "collapsed": true
   },
   "outputs": [],
   "source": [
    "words = rdd.flatMap(lambda x: x.split()).cache()"
   ]
  },
  {
   "cell_type": "code",
   "execution_count": 12,
   "metadata": {
    "collapsed": true
   },
   "outputs": [],
   "source": [
    "from operator import add"
   ]
  },
  {
   "cell_type": "code",
   "execution_count": 14,
   "metadata": {
    "collapsed": false
   },
   "outputs": [
    {
     "data": {
      "text/plain": [
       "[('the', 762),\n",
       " ('I', 549),\n",
       " ('and', 539),\n",
       " ('to', 522),\n",
       " ('of', 485),\n",
       " ('a', 453),\n",
       " ('in', 330),\n",
       " ('is', 322),\n",
       " ('my', 310),\n",
       " ('with', 274)]"
      ]
     },
     "execution_count": 14,
     "metadata": {},
     "output_type": "execute_result"
    }
   ],
   "source": [
    "words \\\n",
    "  .map(lambda x: (x, 1)) \\\n",
    "  .reduceByKey(add) \\\n",
    "  .top(10, lambda kv:kv[1])"
   ]
  },
  {
   "cell_type": "code",
   "execution_count": 15,
   "metadata": {
    "collapsed": false
   },
   "outputs": [
    {
     "data": {
      "text/plain": [
       "[('%', 1),\n",
       " ('#', 2),\n",
       " ('$', 2),\n",
       " ('>', 2),\n",
       " ('<', 2),\n",
       " ('Z', 2),\n",
       " ('@', 2),\n",
       " ('X', 3),\n",
       " ('Q', 4),\n",
       " ('7', 7),\n",
       " ('6', 7),\n",
       " ('4', 9),\n",
       " ('8', 9),\n",
       " ('5', 15),\n",
       " ('9', 16),\n",
       " ('3', 16),\n",
       " ('K', 19),\n",
       " ('0', 19),\n",
       " ('\"', 24),\n",
       " ('2', 25),\n",
       " ('/', 28),\n",
       " ('*', 32),\n",
       " ('z', 33),\n",
       " (':', 36),\n",
       " ('(', 38),\n",
       " (')', 38),\n",
       " ('V', 53),\n",
       " ('q', 72),\n",
       " ('1', 94),\n",
       " ('U', 94),\n",
       " (']', 94),\n",
       " ('[', 97),\n",
       " ('Y', 110),\n",
       " ('D', 156),\n",
       " ('x', 157),\n",
       " ('j', 160),\n",
       " ('L', 215),\n",
       " ('J', 215),\n",
       " ('H', 246),\n",
       " ('G', 268),\n",
       " ('F', 283),\n",
       " ('P', 311),\n",
       " ('N', 320),\n",
       " ('C', 320),\n",
       " ('-', 322),\n",
       " ('B', 335),\n",
       " ('?', 371),\n",
       " ('O', 374),\n",
       " ('M', 380),\n",
       " (';', 393),\n",
       " ('E', 393),\n",
       " ('S', 400),\n",
       " ('W', 455),\n",
       " ('R', 484),\n",
       " ('!', 491),\n",
       " ('A', 621),\n",
       " ('T', 806),\n",
       " ('k', 968),\n",
       " ('I', 984),\n",
       " (\"'\", 991),\n",
       " ('v', 1116),\n",
       " ('p', 1673),\n",
       " ('b', 1687),\n",
       " ('g', 1992),\n",
       " ('f', 2194),\n",
       " ('w', 2401),\n",
       " ('c', 2431),\n",
       " (',', 2628),\n",
       " ('.', 2731),\n",
       " ('y', 2828),\n",
       " ('m', 3432),\n",
       " ('u', 3995),\n",
       " ('d', 4284),\n",
       " ('l', 5070),\n",
       " ('i', 6870),\n",
       " ('s', 6982),\n",
       " ('h', 7159),\n",
       " ('n', 7173),\n",
       " ('r', 7202),\n",
       " ('a', 8532),\n",
       " ('o', 9564),\n",
       " ('t', 10245),\n",
       " ('e', 13886)]"
      ]
     },
     "execution_count": 15,
     "metadata": {},
     "output_type": "execute_result"
    }
   ],
   "source": [
    "words \\\n",
    "  .flatMap(list) \\\n",
    "  .map(lambda x: (x, 1)) \\\n",
    "  .reduceByKey(add) \\\n",
    "  .sortBy(lambda kv:kv[1]) \\\n",
    "  .collect()"
   ]
  },
  {
   "cell_type": "code",
   "execution_count": 16,
   "metadata": {
    "collapsed": false
   },
   "outputs": [
    {
     "data": {
      "text/plain": [
       "[(0, 1623),\n",
       " (2, 872),\n",
       " (4, 2188),\n",
       " (6, 10),\n",
       " (8, 2),\n",
       " (10, 1),\n",
       " (12, 1),\n",
       " (14, 3),\n",
       " (16, 6),\n",
       " (18, 1),\n",
       " (20, 2),\n",
       " (22, 5),\n",
       " (24, 9),\n",
       " (26, 4),\n",
       " (28, 2),\n",
       " (30, 2),\n",
       " (36, 1),\n",
       " (38, 3),\n",
       " (40, 1),\n",
       " (42, 1),\n",
       " (44, 2),\n",
       " (48, 1),\n",
       " (50, 1),\n",
       " (52, 2),\n",
       " (58, 1),\n",
       " (1, 1),\n",
       " (5, 28),\n",
       " (7, 1),\n",
       " (9, 1),\n",
       " (11, 5),\n",
       " (13, 2),\n",
       " (15, 2),\n",
       " (17, 1),\n",
       " (19, 7),\n",
       " (21, 5),\n",
       " (23, 7),\n",
       " (25, 3),\n",
       " (27, 3),\n",
       " (31, 1),\n",
       " (33, 1),\n",
       " (35, 1),\n",
       " (37, 6),\n",
       " (39, 1),\n",
       " (41, 1),\n",
       " (43, 3),\n",
       " (45, 2),\n",
       " (47, 1),\n",
       " (49, 1),\n",
       " (51, 5),\n",
       " (53, 3),\n",
       " (55, 2),\n",
       " (57, 15)]"
      ]
     },
     "execution_count": 16,
     "metadata": {},
     "output_type": "execute_result"
    }
   ],
   "source": [
    "rdd \\\n",
    "  .map(lambda x: len(x) - len(x.lstrip())) \\\n",
    "  .map(lambda x: (x, 1)) \\\n",
    "  .reduceByKey(add) \\\n",
    "  .collect()"
   ]
  },
  {
   "cell_type": "code",
   "execution_count": 17,
   "metadata": {
    "collapsed": true
   },
   "outputs": [],
   "source": []
  }
 ],
 "metadata": {
  "kernelspec": {
   "display_name": "Python 3",
   "language": "python",
   "name": "python3"
  },
  "language_info": {
   "codemirror_mode": {
    "name": "ipython",
    "version": 3
   },
   "file_extension": ".py",
   "mimetype": "text/x-python",
   "name": "python",
   "nbconvert_exporter": "python",
   "pygments_lexer": "ipython3",
   "version": "3.5.2"
  },
  "name": "3_text",
  "notebookId": 1186597917764394
 },
 "nbformat": 4,
 "nbformat_minor": 0
}
