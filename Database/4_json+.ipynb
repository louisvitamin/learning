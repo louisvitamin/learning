{
 "cells": [
  {
   "cell_type": "markdown",
   "metadata": {},
   "source": [
    "# Class 8 Notebook 2: Working with per-line JSON files\n",
    "\n",
    "Class 8 (7 Dec 2016) of [BS1804-1617 Fundamentals of Database Technologies](https://imperialbusiness.school/category/bs1804-1617/) by [Piotr Migdal](http://p.migdal.pl/)\n",
    "\n",
    "* [How do I copy a remote dataset from the internet to DBFS in my Spark cluster?](https://forums.databricks.com/questions/771/how-do-i-distribute-a-local-file-on-my-drivermaste.html)\n",
    "\n",
    "We will work on the same city data, exported to per-line JSONs from PostgreSQL with:\n",
    "```COPY (SELECT row_to_json(t) FROM city as t) to '/Users/pmigdal/city.json';```"
   ]
  },
  {
   "cell_type": "code",
   "execution_count": 1,
   "metadata": {
    "collapsed": false
   },
   "outputs": [
    {
     "name": "stdout",
     "output_type": "stream",
     "text": [
      "--2016-12-11 20:37:27--  https://s3.amazonaws.com/pmigdal/country.json\n",
      "Resolving s3.amazonaws.com (s3.amazonaws.com)... 52.216.81.11\n",
      "Connecting to s3.amazonaws.com (s3.amazonaws.com)|52.216.81.11|:443... connected.\n",
      "HTTP request sent, awaiting response... 200 OK\n",
      "Length: 75715 (74K) [application/octet-stream]\n",
      "Saving to: ‘/tmp/country.json’\n",
      "\n",
      "/tmp/country.json   100%[=====================>]  73.94K   187KB/s   in 0.4s   \n",
      "\n",
      "2016-12-11 20:37:33 (187 KB/s) - ‘/tmp/country.json’ saved [75715/75715]\n",
      "\n"
     ]
    }
   ],
   "source": [
    "!wget -P /tmp https://s3.amazonaws.com/pmigdal/country.json"
   ]
  },
  {
   "cell_type": "code",
   "execution_count": 2,
   "metadata": {
    "collapsed": false
   },
   "outputs": [
    {
     "name": "stdout",
     "output_type": "stream",
     "text": [
      "--2016-12-11 20:37:38--  https://s3.amazonaws.com/pmigdal/city.json\n",
      "Resolving s3.amazonaws.com (s3.amazonaws.com)... 52.216.64.179\n",
      "Connecting to s3.amazonaws.com (s3.amazonaws.com)|52.216.64.179|:443... connected.\n",
      "HTTP request sent, awaiting response... 200 OK\n",
      "Length: 381063 (372K) [application/octet-stream]\n",
      "Saving to: ‘/tmp/city.json’\n",
      "\n",
      "/tmp/city.json      100%[=====================>] 372.13K   170KB/s   in 2.2s   \n",
      "\n",
      "2016-12-11 20:37:45 (170 KB/s) - ‘/tmp/city.json’ saved [381063/381063]\n",
      "\n"
     ]
    }
   ],
   "source": [
    "!wget -P /tmp https://s3.amazonaws.com/pmigdal/city.json"
   ]
  },
  {
   "cell_type": "code",
   "execution_count": 3,
   "metadata": {
    "collapsed": false
   },
   "outputs": [
    {
     "name": "stdout",
     "output_type": "stream",
     "text": [
      "--2016-12-11 20:37:48--  https://s3.amazonaws.com/pmigdal/countrylanguage.json\n",
      "Resolving s3.amazonaws.com (s3.amazonaws.com)... 54.231.40.2\n",
      "Connecting to s3.amazonaws.com (s3.amazonaws.com)|54.231.40.2|:443... connected.\n",
      "HTTP request sent, awaiting response... 200 OK\n",
      "Length: 77725 (76K) [application/octet-stream]\n",
      "Saving to: ‘/tmp/countrylanguage.json’\n",
      "\n",
      "/tmp/countrylanguag 100%[=====================>]  75.90K   213KB/s   in 0.4s   \n",
      "\n",
      "2016-12-11 20:37:54 (213 KB/s) - ‘/tmp/countrylanguage.json’ saved [77725/77725]\n",
      "\n"
     ]
    }
   ],
   "source": [
    "!wget -P /tmp https://s3.amazonaws.com/pmigdal/countrylanguage.json"
   ]
  },
  {
   "cell_type": "code",
   "execution_count": 4,
   "metadata": {
    "collapsed": false
   },
   "outputs": [
    {
     "ename": "NameError",
     "evalue": "name 'dbutils' is not defined",
     "output_type": "error",
     "traceback": [
      "\u001b[0;31m---------------------------------------------------------------------------\u001b[0m",
      "\u001b[0;31mNameError\u001b[0m                                 Traceback (most recent call last)",
      "\u001b[0;32m<ipython-input-4-39c6422c473a>\u001b[0m in \u001b[0;36m<module>\u001b[0;34m()\u001b[0m\n\u001b[1;32m      2\u001b[0m \u001b[0msc\u001b[0m \u001b[0;34m=\u001b[0m \u001b[0mpyspark\u001b[0m\u001b[0;34m.\u001b[0m\u001b[0mSparkContext\u001b[0m\u001b[0;34m(\u001b[0m\u001b[0;34m'local[*]'\u001b[0m\u001b[0;34m)\u001b[0m\u001b[0;34m\u001b[0m\u001b[0m\n\u001b[1;32m      3\u001b[0m \u001b[0;31m# files (a Databricks command)\u001b[0m\u001b[0;34m\u001b[0m\u001b[0;34m\u001b[0m\u001b[0m\n\u001b[0;32m----> 4\u001b[0;31m \u001b[0mdbutils\u001b[0m\u001b[0;34m.\u001b[0m\u001b[0mfs\u001b[0m\u001b[0;34m.\u001b[0m\u001b[0mls\u001b[0m\u001b[0;34m(\u001b[0m\u001b[0;34m\"file:/tmp/\"\u001b[0m\u001b[0;34m)\u001b[0m\u001b[0;34m\u001b[0m\u001b[0m\n\u001b[0m",
      "\u001b[0;31mNameError\u001b[0m: name 'dbutils' is not defined"
     ]
    }
   ],
   "source": [
    "import pyspark\n",
    "sc = pyspark.SparkContext('local[*]')\n",
    "# files (a Databricks command)\n",
    "dbutils.fs.ls(\"file:/tmp/\")"
   ]
  },
  {
   "cell_type": "code",
   "execution_count": 5,
   "metadata": {
    "collapsed": true
   },
   "outputs": [],
   "source": [
    "# we load it as a text file\n",
    "rdd = sc.textFile(\"file:/tmp/country.json\")"
   ]
  },
  {
   "cell_type": "code",
   "execution_count": 6,
   "metadata": {
    "collapsed": false
   },
   "outputs": [
    {
     "data": {
      "text/plain": [
       "'{\"code\":\"AFG\",\"name\":\"Afghanistan\",\"continent\":\"Asia\",\"region\":\"Southern and Central Asia\",\"surfacearea\":652090,\"indepyear\":1919,\"population\":22720000,\"lifeexpectancy\":45.9,\"gnp\":5976.00,\"gnpold\":null,\"localname\":\"Afganistan/Afqanestan\",\"governmentform\":\"Islamic Emirate\",\"headofstate\":\"Mohammad Omar\",\"capital\":1,\"code2\":\"AF\"}'"
      ]
     },
     "execution_count": 6,
     "metadata": {},
     "output_type": "execute_result"
    }
   ],
   "source": [
    "# it is just a string with JSON content\n",
    "rdd.first()"
   ]
  },
  {
   "cell_type": "code",
   "execution_count": 7,
   "metadata": {
    "collapsed": true
   },
   "outputs": [],
   "source": [
    "# a Python library for parsing json\n",
    "import json"
   ]
  },
  {
   "cell_type": "code",
   "execution_count": 8,
   "metadata": {
    "collapsed": false
   },
   "outputs": [
    {
     "data": {
      "text/plain": [
       "239"
      ]
     },
     "execution_count": 8,
     "metadata": {},
     "output_type": "execute_result"
    }
   ],
   "source": [
    "# number of lines\n",
    "rdd.count()"
   ]
  },
  {
   "cell_type": "code",
   "execution_count": 9,
   "metadata": {
    "collapsed": true
   },
   "outputs": [],
   "source": [
    "# parsing JSON takes time\n",
    "# we want to load it only once\n",
    "rdd_jsons = rdd.map(json.loads).cache()"
   ]
  },
  {
   "cell_type": "code",
   "execution_count": 10,
   "metadata": {
    "collapsed": false
   },
   "outputs": [
    {
     "data": {
      "text/plain": [
       "{'capital': 1,\n",
       " 'code': 'AFG',\n",
       " 'code2': 'AF',\n",
       " 'continent': 'Asia',\n",
       " 'gnp': 5976.0,\n",
       " 'gnpold': None,\n",
       " 'governmentform': 'Islamic Emirate',\n",
       " 'headofstate': 'Mohammad Omar',\n",
       " 'indepyear': 1919,\n",
       " 'lifeexpectancy': 45.9,\n",
       " 'localname': 'Afganistan/Afqanestan',\n",
       " 'name': 'Afghanistan',\n",
       " 'population': 22720000,\n",
       " 'region': 'Southern and Central Asia',\n",
       " 'surfacearea': 652090}"
      ]
     },
     "execution_count": 10,
     "metadata": {},
     "output_type": "execute_result"
    }
   ],
   "source": [
    "# now, it is a Python dictionary\n",
    "rdd_jsons.first()"
   ]
  },
  {
   "cell_type": "code",
   "execution_count": 11,
   "metadata": {
    "collapsed": false
   },
   "outputs": [
    {
     "data": {
      "text/plain": [
       "[1919, 1581, None, 1912, 1962, None, 1278, 1975, None, 1981]"
      ]
     },
     "execution_count": 11,
     "metadata": {},
     "output_type": "execute_result"
    }
   ],
   "source": [
    "# taking a column; look at the missing values\n",
    "rdd_jsons.map(lambda x: x[\"indepyear\"]).take(10)"
   ]
  },
  {
   "cell_type": "code",
   "execution_count": 12,
   "metadata": {
    "collapsed": false
   },
   "outputs": [
    {
     "data": {
      "text/plain": [
       "[(None, 47), (1960, 18), (1991, 18), (1962, 7), (1975, 7)]"
      ]
     },
     "execution_count": 12,
     "metadata": {},
     "output_type": "execute_result"
    }
   ],
   "source": [
    "# most popular independence years\n",
    "rdd_jsons.map(lambda x: (x[\"indepyear\"], 1)) \\\n",
    " .reduceByKey(lambda x, y: x + y) \\\n",
    " .top(5, lambda kv:kv[1])"
   ]
  },
  {
   "cell_type": "code",
   "execution_count": 13,
   "metadata": {
    "collapsed": false
   },
   "outputs": [
    {
     "data": {
      "text/plain": [
       "[{'capital': 1891,\n",
       "  'code': 'CHN',\n",
       "  'code2': 'CN',\n",
       "  'continent': 'Asia',\n",
       "  'gnp': 982268.0,\n",
       "  'gnpold': 917719.0,\n",
       "  'governmentform': \"People'sRepublic\",\n",
       "  'headofstate': 'Jiang Zemin',\n",
       "  'indepyear': -1523,\n",
       "  'lifeexpectancy': 71.4,\n",
       "  'localname': 'Zhongquo',\n",
       "  'name': 'China',\n",
       "  'population': 1277558000,\n",
       "  'region': 'Eastern Asia',\n",
       "  'surfacearea': 9572900.0},\n",
       " {'capital': 1532,\n",
       "  'code': 'JPN',\n",
       "  'code2': 'JP',\n",
       "  'continent': 'Asia',\n",
       "  'gnp': 3787042.0,\n",
       "  'gnpold': 4192638.0,\n",
       "  'governmentform': 'Constitutional Monarchy',\n",
       "  'headofstate': 'Akihito',\n",
       "  'indepyear': -660,\n",
       "  'lifeexpectancy': 80.7,\n",
       "  'localname': 'Nihon/Nippon',\n",
       "  'name': 'Japan',\n",
       "  'population': 126714000,\n",
       "  'region': 'Eastern Asia',\n",
       "  'surfacearea': 377829}]"
      ]
     },
     "execution_count": 13,
     "metadata": {},
     "output_type": "execute_result"
    }
   ],
   "source": [
    "rdd_jsons \\\n",
    "  .filter(lambda x: x[\"continent\"] == \"Asia\") \\\n",
    "  .filter(lambda x: x[\"indepyear\"] is not None) \\\n",
    "  .sortBy(lambda x: x[\"indepyear\"]) \\\n",
    "  .take(2)"
   ]
  },
  {
   "cell_type": "markdown",
   "metadata": {},
   "source": [
    "## Exercises\n",
    "\n",
    "* Get the 5 most populous countries.\n",
    "* Get the number of countries per continent.\n",
    "* Get the total population by continent."
   ]
  },
  {
   "cell_type": "code",
   "execution_count": 14,
   "metadata": {
    "collapsed": false
   },
   "outputs": [
    {
     "data": {
      "text/plain": [
       "[{'capital': 1891,\n",
       "  'code': 'CHN',\n",
       "  'code2': 'CN',\n",
       "  'continent': 'Asia',\n",
       "  'gnp': 982268.0,\n",
       "  'gnpold': 917719.0,\n",
       "  'governmentform': \"People'sRepublic\",\n",
       "  'headofstate': 'Jiang Zemin',\n",
       "  'indepyear': -1523,\n",
       "  'lifeexpectancy': 71.4,\n",
       "  'localname': 'Zhongquo',\n",
       "  'name': 'China',\n",
       "  'population': 1277558000,\n",
       "  'region': 'Eastern Asia',\n",
       "  'surfacearea': 9572900.0},\n",
       " {'capital': 1109,\n",
       "  'code': 'IND',\n",
       "  'code2': 'IN',\n",
       "  'continent': 'Asia',\n",
       "  'gnp': 447114.0,\n",
       "  'gnpold': 430572.0,\n",
       "  'governmentform': 'Federal Republic',\n",
       "  'headofstate': 'Kocheril Raman Narayanan',\n",
       "  'indepyear': 1947,\n",
       "  'lifeexpectancy': 62.5,\n",
       "  'localname': 'Bharat/India',\n",
       "  'name': 'India',\n",
       "  'population': 1013662000,\n",
       "  'region': 'Southern and Central Asia',\n",
       "  'surfacearea': 3287260.0},\n",
       " {'capital': 3813,\n",
       "  'code': 'USA',\n",
       "  'code2': 'US',\n",
       "  'continent': 'North America',\n",
       "  'gnp': 8510700.0,\n",
       "  'gnpold': 8110900.0,\n",
       "  'governmentform': 'Federal Republic',\n",
       "  'headofstate': 'George W. Bush',\n",
       "  'indepyear': 1776,\n",
       "  'lifeexpectancy': 77.1,\n",
       "  'localname': 'United States',\n",
       "  'name': 'United States',\n",
       "  'population': 278357000,\n",
       "  'region': 'North America',\n",
       "  'surfacearea': 9363520.0},\n",
       " {'capital': 939,\n",
       "  'code': 'IDN',\n",
       "  'code2': 'ID',\n",
       "  'continent': 'Asia',\n",
       "  'gnp': 84982.0,\n",
       "  'gnpold': 215002.0,\n",
       "  'governmentform': 'Republic',\n",
       "  'headofstate': 'Abdurrahman Wahid',\n",
       "  'indepyear': 1945,\n",
       "  'lifeexpectancy': 68,\n",
       "  'localname': 'Indonesia',\n",
       "  'name': 'Indonesia',\n",
       "  'population': 212107000,\n",
       "  'region': 'Southeast Asia',\n",
       "  'surfacearea': 1904570.0},\n",
       " {'capital': 211,\n",
       "  'code': 'BRA',\n",
       "  'code2': 'BR',\n",
       "  'continent': 'South America',\n",
       "  'gnp': 776739.0,\n",
       "  'gnpold': 804108.0,\n",
       "  'governmentform': 'Federal Republic',\n",
       "  'headofstate': 'Fernando Henrique Cardoso',\n",
       "  'indepyear': 1822,\n",
       "  'lifeexpectancy': 62.9,\n",
       "  'localname': 'Brasil',\n",
       "  'name': 'Brazil',\n",
       "  'population': 170115000,\n",
       "  'region': 'South America',\n",
       "  'surfacearea': 8547400.0}]"
      ]
     },
     "execution_count": 14,
     "metadata": {},
     "output_type": "execute_result"
    }
   ],
   "source": [
    "rdd_jsons \\\n",
    "  .sortBy(lambda x: x[\"population\"], ascending=False) \\\n",
    "  .take(5)"
   ]
  },
  {
   "cell_type": "code",
   "execution_count": 15,
   "metadata": {
    "collapsed": false
   },
   "outputs": [
    {
     "data": {
      "text/plain": [
       "[('Asia', 51),\n",
       " ('Antarctica', 5),\n",
       " ('South America', 14),\n",
       " ('Europe', 46),\n",
       " ('Africa', 58),\n",
       " ('North America', 37),\n",
       " ('Oceania', 28)]"
      ]
     },
     "execution_count": 15,
     "metadata": {},
     "output_type": "execute_result"
    }
   ],
   "source": [
    "rdd_jsons \\\n",
    "  .map(lambda x: (x[\"continent\"], 1)) \\\n",
    "  .reduceByKey(lambda x, y: x + y) \\\n",
    "  .collect()"
   ]
  },
  {
   "cell_type": "code",
   "execution_count": 16,
   "metadata": {
    "collapsed": false
   },
   "outputs": [
    {
     "data": {
      "text/plain": [
       "[('Asia', 3705025700),\n",
       " ('Antarctica', 0),\n",
       " ('South America', 345780000),\n",
       " ('Europe', 730074600),\n",
       " ('Africa', 784475000),\n",
       " ('North America', 482993000),\n",
       " ('Oceania', 30401150)]"
      ]
     },
     "execution_count": 16,
     "metadata": {},
     "output_type": "execute_result"
    }
   ],
   "source": [
    "rdd_jsons \\\n",
    "  .map(lambda x: (x[\"continent\"], x[\"population\"])) \\\n",
    "  .reduceByKey(lambda x, y: x + y) \\\n",
    "  .collect()"
   ]
  },
  {
   "cell_type": "code",
   "execution_count": 17,
   "metadata": {
    "collapsed": true
   },
   "outputs": [],
   "source": [
    "from operator import add"
   ]
  },
  {
   "cell_type": "code",
   "execution_count": 18,
   "metadata": {
    "collapsed": false
   },
   "outputs": [
    {
     "data": {
      "text/plain": [
       "[('Asia', 3705025700),\n",
       " ('Antarctica', 0),\n",
       " ('South America', 345780000),\n",
       " ('Europe', 730074600),\n",
       " ('Africa', 784475000),\n",
       " ('North America', 482993000),\n",
       " ('Oceania', 30401150)]"
      ]
     },
     "execution_count": 18,
     "metadata": {},
     "output_type": "execute_result"
    }
   ],
   "source": [
    "rdd_jsons \\\n",
    "  .map(lambda x: (x[\"continent\"], x[\"population\"])) \\\n",
    "  .reduceByKey(add) \\\n",
    "  .collect()"
   ]
  },
  {
   "cell_type": "code",
   "execution_count": 19,
   "metadata": {
    "collapsed": false
   },
   "outputs": [
    {
     "data": {
      "text/plain": [
       "[('Asia', 1277558000),\n",
       " ('Antarctica', 0),\n",
       " ('South America', 170115000),\n",
       " ('Europe', 146934000),\n",
       " ('Africa', 111506000),\n",
       " ('North America', 278357000),\n",
       " ('Oceania', 18886000)]"
      ]
     },
     "execution_count": 19,
     "metadata": {},
     "output_type": "execute_result"
    }
   ],
   "source": [
    "rdd_jsons \\\n",
    "  .map(lambda x: (x[\"continent\"], x[\"population\"])) \\\n",
    "  .reduceByKey(max) \\\n",
    "  .collect()"
   ]
  },
  {
   "cell_type": "code",
   "execution_count": 22,
   "metadata": {
    "collapsed": true
   },
   "outputs": [],
   "source": []
  }
 ],
 "metadata": {
  "kernelspec": {
   "display_name": "Python 3",
   "language": "python",
   "name": "python3"
  },
  "language_info": {
   "codemirror_mode": {
    "name": "ipython",
    "version": 3
   },
   "file_extension": ".py",
   "mimetype": "text/x-python",
   "name": "python",
   "nbconvert_exporter": "python",
   "pygments_lexer": "ipython3",
   "version": "3.5.2"
  },
  "name": "4_json",
  "notebookId": 3088093358452870
 },
 "nbformat": 4,
 "nbformat_minor": 0
}
