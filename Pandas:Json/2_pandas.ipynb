{
 "cells": [
  {
   "cell_type": "markdown",
   "metadata": {},
   "source": [
    "# 5_2: Pandas and SQL analogies\n",
    "\n",
    "Class 5 (2 Dec 2016) of [BS1804-1617 Fundamentals of Database Technologies](https://imperialbusiness.school/category/bs1804-1617/) by [Piotr Migdał](http://p.migdal.pl/)\n",
    "\n",
    "[Pandas](http://pandas.pydata.org/) is a Python library for working with tabular data - imported from CSV, Excel or SQL (among other formats).\n",
    "\n",
    "In general, Pandas is not SQL, and SQL is not Pandas.\n",
    "\n",
    "* taking only a few rows (`LIMIT`)\n",
    "* selecting columns (`SELECT`)\n",
    "* summarizing (`COUNT`, `AVG`, `MIN`, `MAX`)\n",
    "* sorting (`ORDER BY`)\n",
    "* filtering (`WHERE`, `HAVING`)\n",
    "* grouping (`GROUP BY`)\n",
    "* joins (`JOIN ON`)\n",
    "\n",
    "Some things work differently:\n",
    "\n",
    "* missing values (`NULL`)\n",
    "* data types (schema in `CREATE TABLE`)"
   ]
  },
  {
   "cell_type": "markdown",
   "metadata": {},
   "source": [
    "## Income Data Set\n",
    "\n",
    "During this class we will work on the following dataset:\n",
    "\n",
    "* dataset: [Census Income Data Set](http://mlr.cs.umass.edu/ml/datasets/Census+Income) (also known as \"Adult\" dataset)\n",
    "* source: [Machine Learning Repository - Center for Machine Learning and Intelligent Systems](http://mlr.cs.umass.edu/ml/datasets.html)\n",
    "\n",
    "> Extraction was done by Barry Becker from the 1994 Census database. A set of reasonably clean records was extracted using the following conditions: ((AAGE>16) && (AGI>100) && (AFNLWGT>1)&& (HRSWK>0)) \n",
    "\n",
    "> Prediction task is to determine whether a person makes over 50K a year. \n",
    "\n",
    "\n",
    "* **age**:\n",
    "  * continuous. \n",
    "* **workclass**:\n",
    "  * Private, Self-emp-not-inc, Self-emp-inc, Federal-gov, Local- gov, State-gov, Without-pay, Never-worked. \n",
    "* **fnlwgt**:\n",
    "  * continuous. \n",
    "* **education**:\n",
    "  * Bachelors, Some-college, 11th, HS-grad, Prof-school, Assoc- acdm, Assoc-voc, 9th, 7th-8th, 12th, Masters, 1st-4th, 10th, Doctorate, 5th-6th, Preschool. \n",
    "* **education-num**:\n",
    "  * continuous. \n",
    "* **marital-status**:\n",
    "  * Married-civ-spouse, Divorced, Never-married, Separated, Widowed, Married-spouse-absent, Married-AF-spouse. \n",
    "* **occupation**:\n",
    "  * Tech-support, Craft-repair, Other-service, Sales, Exec-managerial, Prof-specialty, Handlers-cleaners, Machine-op-inspct, Adm-clerical, Farming-fishing, Transport-moving, Priv-house-serv, Protective-serv, Armed-Forces. \n",
    "* **relationship**:\n",
    "  * Wife, Own-child, Husband, Not-in-family, Other-relative, Unmarried. \n",
    "* **race**:\n",
    "  * White, Asian-Pac-Islander, Amer-Indian-Eskimo, Other, Black. \n",
    "* **sex**:\n",
    "  * Female, Male. \n",
    "* **capital-gain**:\n",
    "  * continuous. \n",
    "* **capital-loss**:\n",
    "  * continuous. \n",
    "* **hours-per-week**:\n",
    "  * continuous. \n",
    "* **native-country**:\n",
    "  * United-States, Cambodia, England, Puerto-Rico, Canada, Germany, Outlying-US(Guam-USVI-etc), India, Japan, Greece, South, China, Cuba, Iran, Honduras, Philippines, Italy, Poland, Jamaica, Vietnam, Mexico, Portugal, Ireland, France, Dominican-Republic, Laos, Ecuador, Taiwan, Haiti, Columbia, Hungary, Guatemala, Nicaragua, Scotland, Thailand, Yugoslavia, El-Salvador, Trinadad&Tobago, Peru, Hong, Holand-Netherlands.\n",
    "* **income**:\n",
    "  * `>50K`, `<=50K`"
   ]
  },
  {
   "cell_type": "code",
   "execution_count": null,
   "metadata": {
    "collapsed": false
   },
   "outputs": [],
   "source": [
    "# under Linux/OSX you can lookup a few lines of any file\n",
    "# under Windows, just open this file (\"data/adult.data\") in a text editor \n",
    "!head -5 data/adult.data"
   ]
  },
  {
   "cell_type": "code",
   "execution_count": 1,
   "metadata": {
    "collapsed": true
   },
   "outputs": [],
   "source": [
    "# loading pandas\n",
    "# since we will be using it a lot, we abbreviate it as `pd`\n",
    "import pandas as pd"
   ]
  },
  {
   "cell_type": "code",
   "execution_count": 3,
   "metadata": {
    "collapsed": false
   },
   "outputs": [
    {
     "name": "stderr",
     "output_type": "stream",
     "text": [
      "//anaconda/lib/python3.5/site-packages/ipykernel/__main__.py:5: ParserWarning: Falling back to the 'python' engine because the 'c' engine does not support regex separators (separators > 1 char and different from '\\s+' are interpreted as regex); you can avoid this warning by specifying engine='python'.\n"
     ]
    }
   ],
   "source": [
    "# creating a DataFrame from a comma-separated values (CSV) file\n",
    "# (don't be mislead by the *.data filename extension)\n",
    "# since there is no header, we need to set `header=None`\n",
    "# also: there is a space after each \",\"\n",
    "df = pd.read_csv(\"adult.data\", header=None, sep=\", \")"
   ]
  },
  {
   "cell_type": "code",
   "execution_count": 4,
   "metadata": {
    "collapsed": true
   },
   "outputs": [],
   "source": [
    "# warning \"ParserWarning: Falling back to the 'python' engine because the 'c' engine does not support regex separators\"\n",
    "# is acceptable!"
   ]
  },
  {
   "cell_type": "code",
   "execution_count": 4,
   "metadata": {
    "collapsed": false
   },
   "outputs": [
    {
     "data": {
      "text/html": [
       "<div>\n",
       "<table border=\"1\" class=\"dataframe\">\n",
       "  <thead>\n",
       "    <tr style=\"text-align: right;\">\n",
       "      <th></th>\n",
       "      <th>0</th>\n",
       "      <th>1</th>\n",
       "      <th>2</th>\n",
       "      <th>3</th>\n",
       "      <th>4</th>\n",
       "      <th>5</th>\n",
       "      <th>6</th>\n",
       "      <th>7</th>\n",
       "      <th>8</th>\n",
       "      <th>9</th>\n",
       "      <th>10</th>\n",
       "      <th>11</th>\n",
       "      <th>12</th>\n",
       "      <th>13</th>\n",
       "      <th>14</th>\n",
       "    </tr>\n",
       "  </thead>\n",
       "  <tbody>\n",
       "    <tr>\n",
       "      <th>0</th>\n",
       "      <td>39</td>\n",
       "      <td>State-gov</td>\n",
       "      <td>77516</td>\n",
       "      <td>Bachelors</td>\n",
       "      <td>13</td>\n",
       "      <td>Never-married</td>\n",
       "      <td>Adm-clerical</td>\n",
       "      <td>Not-in-family</td>\n",
       "      <td>White</td>\n",
       "      <td>Male</td>\n",
       "      <td>2174</td>\n",
       "      <td>0</td>\n",
       "      <td>40</td>\n",
       "      <td>United-States</td>\n",
       "      <td>&lt;=50K</td>\n",
       "    </tr>\n",
       "    <tr>\n",
       "      <th>1</th>\n",
       "      <td>50</td>\n",
       "      <td>Self-emp-not-inc</td>\n",
       "      <td>83311</td>\n",
       "      <td>Bachelors</td>\n",
       "      <td>13</td>\n",
       "      <td>Married-civ-spouse</td>\n",
       "      <td>Exec-managerial</td>\n",
       "      <td>Husband</td>\n",
       "      <td>White</td>\n",
       "      <td>Male</td>\n",
       "      <td>0</td>\n",
       "      <td>0</td>\n",
       "      <td>13</td>\n",
       "      <td>United-States</td>\n",
       "      <td>&lt;=50K</td>\n",
       "    </tr>\n",
       "    <tr>\n",
       "      <th>2</th>\n",
       "      <td>38</td>\n",
       "      <td>Private</td>\n",
       "      <td>215646</td>\n",
       "      <td>HS-grad</td>\n",
       "      <td>9</td>\n",
       "      <td>Divorced</td>\n",
       "      <td>Handlers-cleaners</td>\n",
       "      <td>Not-in-family</td>\n",
       "      <td>White</td>\n",
       "      <td>Male</td>\n",
       "      <td>0</td>\n",
       "      <td>0</td>\n",
       "      <td>40</td>\n",
       "      <td>United-States</td>\n",
       "      <td>&lt;=50K</td>\n",
       "    </tr>\n",
       "    <tr>\n",
       "      <th>3</th>\n",
       "      <td>53</td>\n",
       "      <td>Private</td>\n",
       "      <td>234721</td>\n",
       "      <td>11th</td>\n",
       "      <td>7</td>\n",
       "      <td>Married-civ-spouse</td>\n",
       "      <td>Handlers-cleaners</td>\n",
       "      <td>Husband</td>\n",
       "      <td>Black</td>\n",
       "      <td>Male</td>\n",
       "      <td>0</td>\n",
       "      <td>0</td>\n",
       "      <td>40</td>\n",
       "      <td>United-States</td>\n",
       "      <td>&lt;=50K</td>\n",
       "    </tr>\n",
       "    <tr>\n",
       "      <th>4</th>\n",
       "      <td>28</td>\n",
       "      <td>Private</td>\n",
       "      <td>338409</td>\n",
       "      <td>Bachelors</td>\n",
       "      <td>13</td>\n",
       "      <td>Married-civ-spouse</td>\n",
       "      <td>Prof-specialty</td>\n",
       "      <td>Wife</td>\n",
       "      <td>Black</td>\n",
       "      <td>Female</td>\n",
       "      <td>0</td>\n",
       "      <td>0</td>\n",
       "      <td>40</td>\n",
       "      <td>Cuba</td>\n",
       "      <td>&lt;=50K</td>\n",
       "    </tr>\n",
       "  </tbody>\n",
       "</table>\n",
       "</div>"
      ],
      "text/plain": [
       "   0                 1       2          3   4                   5   \\\n",
       "0  39         State-gov   77516  Bachelors  13       Never-married   \n",
       "1  50  Self-emp-not-inc   83311  Bachelors  13  Married-civ-spouse   \n",
       "2  38           Private  215646    HS-grad   9            Divorced   \n",
       "3  53           Private  234721       11th   7  Married-civ-spouse   \n",
       "4  28           Private  338409  Bachelors  13  Married-civ-spouse   \n",
       "\n",
       "                  6              7      8       9     10  11  12  \\\n",
       "0       Adm-clerical  Not-in-family  White    Male  2174   0  40   \n",
       "1    Exec-managerial        Husband  White    Male     0   0  13   \n",
       "2  Handlers-cleaners  Not-in-family  White    Male     0   0  40   \n",
       "3  Handlers-cleaners        Husband  Black    Male     0   0  40   \n",
       "4     Prof-specialty           Wife  Black  Female     0   0  40   \n",
       "\n",
       "              13     14  \n",
       "0  United-States  <=50K  \n",
       "1  United-States  <=50K  \n",
       "2  United-States  <=50K  \n",
       "3  United-States  <=50K  \n",
       "4           Cuba  <=50K  "
      ]
     },
     "execution_count": 4,
     "metadata": {},
     "output_type": "execute_result"
    }
   ],
   "source": [
    "# looking at the first few lines (by default: 5)\n",
    "# ~ LIMIT\n",
    "df.head()"
   ]
  },
  {
   "cell_type": "code",
   "execution_count": 5,
   "metadata": {
    "collapsed": false
   },
   "outputs": [
    {
     "data": {
      "text/plain": [
       "Int64Index([0, 1, 2, 3, 4, 5, 6, 7, 8, 9, 10, 11, 12, 13, 14], dtype='int64')"
      ]
     },
     "execution_count": 5,
     "metadata": {},
     "output_type": "execute_result"
    }
   ],
   "source": [
    "# a column has no name (other than number)\n",
    "df.columns"
   ]
  },
  {
   "cell_type": "code",
   "execution_count": 6,
   "metadata": {
    "collapsed": true
   },
   "outputs": [],
   "source": [
    "# as we see, columns have no labels\n",
    "# we provide them, which will make our exploration more convenient\n",
    "df.columns = [\"age\", \n",
    "              \"workclass\", \n",
    "              \"fnlwgt\", \n",
    "              \"education\", \n",
    "              \"education-num\", \n",
    "              \"marital-status\", \n",
    "              \"occupation\", \n",
    "              \"relationship\", \n",
    "              \"race\", \n",
    "              \"sex\", \n",
    "              \"capital-gain\", \n",
    "              \"capital-loss\", \n",
    "              \"hours-per-week\", \n",
    "              \"native-country\",\n",
    "              \"income\"]"
   ]
  },
  {
   "cell_type": "code",
   "execution_count": 7,
   "metadata": {
    "collapsed": false,
    "scrolled": true
   },
   "outputs": [
    {
     "name": "stdout",
     "output_type": "stream",
     "text": [
      "<class 'pandas.core.frame.DataFrame'>\n",
      "RangeIndex: 32561 entries, 0 to 32560\n",
      "Data columns (total 15 columns):\n",
      "age               32561 non-null int64\n",
      "workclass         32561 non-null object\n",
      "fnlwgt            32561 non-null int64\n",
      "education         32561 non-null object\n",
      "education-num     32561 non-null int64\n",
      "marital-status    32561 non-null object\n",
      "occupation        32561 non-null object\n",
      "relationship      32561 non-null object\n",
      "race              32561 non-null object\n",
      "sex               32561 non-null object\n",
      "capital-gain      32561 non-null int64\n",
      "capital-loss      32561 non-null int64\n",
      "hours-per-week    32561 non-null int64\n",
      "native-country    32561 non-null object\n",
      "income            32561 non-null object\n",
      "dtypes: int64(6), object(9)\n",
      "memory usage: 3.7+ MB\n"
     ]
    }
   ],
   "source": [
    "# usually the first step is to check data types (inferred!)\n",
    "# and if they are missing values\n",
    "df.info()"
   ]
  },
  {
   "cell_type": "code",
   "execution_count": 8,
   "metadata": {
    "collapsed": false
   },
   "outputs": [
    {
     "data": {
      "text/html": [
       "<div>\n",
       "<table border=\"1\" class=\"dataframe\">\n",
       "  <thead>\n",
       "    <tr style=\"text-align: right;\">\n",
       "      <th></th>\n",
       "      <th>education</th>\n",
       "      <th>occupation</th>\n",
       "      <th>income</th>\n",
       "    </tr>\n",
       "  </thead>\n",
       "  <tbody>\n",
       "    <tr>\n",
       "      <th>0</th>\n",
       "      <td>Bachelors</td>\n",
       "      <td>Adm-clerical</td>\n",
       "      <td>&lt;=50K</td>\n",
       "    </tr>\n",
       "    <tr>\n",
       "      <th>1</th>\n",
       "      <td>Bachelors</td>\n",
       "      <td>Exec-managerial</td>\n",
       "      <td>&lt;=50K</td>\n",
       "    </tr>\n",
       "    <tr>\n",
       "      <th>2</th>\n",
       "      <td>HS-grad</td>\n",
       "      <td>Handlers-cleaners</td>\n",
       "      <td>&lt;=50K</td>\n",
       "    </tr>\n",
       "    <tr>\n",
       "      <th>3</th>\n",
       "      <td>11th</td>\n",
       "      <td>Handlers-cleaners</td>\n",
       "      <td>&lt;=50K</td>\n",
       "    </tr>\n",
       "    <tr>\n",
       "      <th>4</th>\n",
       "      <td>Bachelors</td>\n",
       "      <td>Prof-specialty</td>\n",
       "      <td>&lt;=50K</td>\n",
       "    </tr>\n",
       "    <tr>\n",
       "      <th>5</th>\n",
       "      <td>Masters</td>\n",
       "      <td>Exec-managerial</td>\n",
       "      <td>&lt;=50K</td>\n",
       "    </tr>\n",
       "    <tr>\n",
       "      <th>6</th>\n",
       "      <td>9th</td>\n",
       "      <td>Other-service</td>\n",
       "      <td>&lt;=50K</td>\n",
       "    </tr>\n",
       "    <tr>\n",
       "      <th>7</th>\n",
       "      <td>HS-grad</td>\n",
       "      <td>Exec-managerial</td>\n",
       "      <td>&gt;50K</td>\n",
       "    </tr>\n",
       "    <tr>\n",
       "      <th>8</th>\n",
       "      <td>Masters</td>\n",
       "      <td>Prof-specialty</td>\n",
       "      <td>&gt;50K</td>\n",
       "    </tr>\n",
       "    <tr>\n",
       "      <th>9</th>\n",
       "      <td>Bachelors</td>\n",
       "      <td>Exec-managerial</td>\n",
       "      <td>&gt;50K</td>\n",
       "    </tr>\n",
       "  </tbody>\n",
       "</table>\n",
       "</div>"
      ],
      "text/plain": [
       "   education         occupation income\n",
       "0  Bachelors       Adm-clerical  <=50K\n",
       "1  Bachelors    Exec-managerial  <=50K\n",
       "2    HS-grad  Handlers-cleaners  <=50K\n",
       "3       11th  Handlers-cleaners  <=50K\n",
       "4  Bachelors     Prof-specialty  <=50K\n",
       "5    Masters    Exec-managerial  <=50K\n",
       "6        9th      Other-service  <=50K\n",
       "7    HS-grad    Exec-managerial   >50K\n",
       "8    Masters     Prof-specialty   >50K\n",
       "9  Bachelors    Exec-managerial   >50K"
      ]
     },
     "execution_count": 8,
     "metadata": {},
     "output_type": "execute_result"
    }
   ],
   "source": [
    "# ~ SELECT\n",
    "df[[\"education\", \"occupation\", \"income\"]].head(10)"
   ]
  },
  {
   "cell_type": "code",
   "execution_count": 9,
   "metadata": {
    "collapsed": false
   },
   "outputs": [
    {
     "data": {
      "text/plain": [
       "HS-grad         10501\n",
       "Some-college     7291\n",
       "Bachelors        5355\n",
       "Masters          1723\n",
       "Assoc-voc        1382\n",
       "11th             1175\n",
       "Assoc-acdm       1067\n",
       "10th              933\n",
       "7th-8th           646\n",
       "Prof-school       576\n",
       "9th               514\n",
       "12th              433\n",
       "Doctorate         413\n",
       "5th-6th           333\n",
       "1st-4th           168\n",
       "Preschool          51\n",
       "Name: education, dtype: int64"
      ]
     },
     "execution_count": 9,
     "metadata": {},
     "output_type": "execute_result"
    }
   ],
   "source": [
    "# counting values\n",
    "# ~ COUNT\n",
    "df[\"education\"].value_counts()"
   ]
  },
  {
   "cell_type": "code",
   "execution_count": 10,
   "metadata": {
    "collapsed": false
   },
   "outputs": [
    {
     "data": {
      "text/plain": [
       "education\n",
       "10th              933\n",
       "11th             1175\n",
       "12th              433\n",
       "1st-4th           168\n",
       "5th-6th           333\n",
       "7th-8th           646\n",
       "9th               514\n",
       "Assoc-acdm       1067\n",
       "Assoc-voc        1382\n",
       "Bachelors        5355\n",
       "Doctorate         413\n",
       "HS-grad         10501\n",
       "Masters          1723\n",
       "Preschool          51\n",
       "Prof-school       576\n",
       "Some-college     7291\n",
       "dtype: int64"
      ]
     },
     "execution_count": 10,
     "metadata": {},
     "output_type": "execute_result"
    }
   ],
   "source": [
    "# or with ~ GROUP BY\n",
    "# look at the chain structure:\n",
    "# df.an_operation().another_operation()\n",
    "df.groupby(\"education\").size()"
   ]
  },
  {
   "cell_type": "code",
   "execution_count": 11,
   "metadata": {
    "collapsed": true
   },
   "outputs": [],
   "source": [
    "# ~ MEAN, MAX, AVG"
   ]
  },
  {
   "cell_type": "code",
   "execution_count": 12,
   "metadata": {
    "collapsed": false
   },
   "outputs": [
    {
     "data": {
      "text/plain": [
       "17"
      ]
     },
     "execution_count": 12,
     "metadata": {},
     "output_type": "execute_result"
    }
   ],
   "source": [
    "df[\"age\"].min()"
   ]
  },
  {
   "cell_type": "code",
   "execution_count": 13,
   "metadata": {
    "collapsed": false
   },
   "outputs": [
    {
     "data": {
      "text/plain": [
       "90"
      ]
     },
     "execution_count": 13,
     "metadata": {},
     "output_type": "execute_result"
    }
   ],
   "source": [
    "df[\"age\"].max()"
   ]
  },
  {
   "cell_type": "code",
   "execution_count": 14,
   "metadata": {
    "collapsed": false
   },
   "outputs": [
    {
     "data": {
      "text/plain": [
       "38.58164675532078"
      ]
     },
     "execution_count": 14,
     "metadata": {},
     "output_type": "execute_result"
    }
   ],
   "source": [
    "df[\"age\"].mean()"
   ]
  },
  {
   "cell_type": "code",
   "execution_count": 15,
   "metadata": {
    "collapsed": false
   },
   "outputs": [
    {
     "data": {
      "text/html": [
       "<div>\n",
       "<table border=\"1\" class=\"dataframe\">\n",
       "  <thead>\n",
       "    <tr style=\"text-align: right;\">\n",
       "      <th></th>\n",
       "      <th>age</th>\n",
       "      <th>workclass</th>\n",
       "      <th>fnlwgt</th>\n",
       "      <th>education</th>\n",
       "      <th>education-num</th>\n",
       "      <th>marital-status</th>\n",
       "      <th>occupation</th>\n",
       "      <th>relationship</th>\n",
       "      <th>race</th>\n",
       "      <th>sex</th>\n",
       "      <th>capital-gain</th>\n",
       "      <th>capital-loss</th>\n",
       "      <th>hours-per-week</th>\n",
       "      <th>native-country</th>\n",
       "      <th>income</th>\n",
       "    </tr>\n",
       "  </thead>\n",
       "  <tbody>\n",
       "    <tr>\n",
       "      <th>5</th>\n",
       "      <td>37</td>\n",
       "      <td>Private</td>\n",
       "      <td>284582</td>\n",
       "      <td>Masters</td>\n",
       "      <td>14</td>\n",
       "      <td>Married-civ-spouse</td>\n",
       "      <td>Exec-managerial</td>\n",
       "      <td>Wife</td>\n",
       "      <td>White</td>\n",
       "      <td>Female</td>\n",
       "      <td>0</td>\n",
       "      <td>0</td>\n",
       "      <td>40</td>\n",
       "      <td>United-States</td>\n",
       "      <td>&lt;=50K</td>\n",
       "    </tr>\n",
       "    <tr>\n",
       "      <th>8</th>\n",
       "      <td>31</td>\n",
       "      <td>Private</td>\n",
       "      <td>45781</td>\n",
       "      <td>Masters</td>\n",
       "      <td>14</td>\n",
       "      <td>Never-married</td>\n",
       "      <td>Prof-specialty</td>\n",
       "      <td>Not-in-family</td>\n",
       "      <td>White</td>\n",
       "      <td>Female</td>\n",
       "      <td>14084</td>\n",
       "      <td>0</td>\n",
       "      <td>50</td>\n",
       "      <td>United-States</td>\n",
       "      <td>&gt;50K</td>\n",
       "    </tr>\n",
       "    <tr>\n",
       "      <th>19</th>\n",
       "      <td>43</td>\n",
       "      <td>Self-emp-not-inc</td>\n",
       "      <td>292175</td>\n",
       "      <td>Masters</td>\n",
       "      <td>14</td>\n",
       "      <td>Divorced</td>\n",
       "      <td>Exec-managerial</td>\n",
       "      <td>Unmarried</td>\n",
       "      <td>White</td>\n",
       "      <td>Female</td>\n",
       "      <td>0</td>\n",
       "      <td>0</td>\n",
       "      <td>45</td>\n",
       "      <td>United-States</td>\n",
       "      <td>&gt;50K</td>\n",
       "    </tr>\n",
       "    <tr>\n",
       "      <th>47</th>\n",
       "      <td>44</td>\n",
       "      <td>Private</td>\n",
       "      <td>128354</td>\n",
       "      <td>Masters</td>\n",
       "      <td>14</td>\n",
       "      <td>Divorced</td>\n",
       "      <td>Exec-managerial</td>\n",
       "      <td>Unmarried</td>\n",
       "      <td>White</td>\n",
       "      <td>Female</td>\n",
       "      <td>0</td>\n",
       "      <td>0</td>\n",
       "      <td>40</td>\n",
       "      <td>United-States</td>\n",
       "      <td>&lt;=50K</td>\n",
       "    </tr>\n",
       "    <tr>\n",
       "      <th>87</th>\n",
       "      <td>33</td>\n",
       "      <td>Private</td>\n",
       "      <td>202051</td>\n",
       "      <td>Masters</td>\n",
       "      <td>14</td>\n",
       "      <td>Married-civ-spouse</td>\n",
       "      <td>Prof-specialty</td>\n",
       "      <td>Husband</td>\n",
       "      <td>White</td>\n",
       "      <td>Male</td>\n",
       "      <td>0</td>\n",
       "      <td>0</td>\n",
       "      <td>50</td>\n",
       "      <td>United-States</td>\n",
       "      <td>&lt;=50K</td>\n",
       "    </tr>\n",
       "  </tbody>\n",
       "</table>\n",
       "</div>"
      ],
      "text/plain": [
       "    age         workclass  fnlwgt education  education-num  \\\n",
       "5    37           Private  284582   Masters             14   \n",
       "8    31           Private   45781   Masters             14   \n",
       "19   43  Self-emp-not-inc  292175   Masters             14   \n",
       "47   44           Private  128354   Masters             14   \n",
       "87   33           Private  202051   Masters             14   \n",
       "\n",
       "        marital-status       occupation   relationship   race     sex  \\\n",
       "5   Married-civ-spouse  Exec-managerial           Wife  White  Female   \n",
       "8        Never-married   Prof-specialty  Not-in-family  White  Female   \n",
       "19            Divorced  Exec-managerial      Unmarried  White  Female   \n",
       "47            Divorced  Exec-managerial      Unmarried  White  Female   \n",
       "87  Married-civ-spouse   Prof-specialty        Husband  White    Male   \n",
       "\n",
       "    capital-gain  capital-loss  hours-per-week native-country income  \n",
       "5              0             0              40  United-States  <=50K  \n",
       "8          14084             0              50  United-States   >50K  \n",
       "19             0             0              45  United-States   >50K  \n",
       "47             0             0              40  United-States  <=50K  \n",
       "87             0             0              50  United-States  <=50K  "
      ]
     },
     "execution_count": 15,
     "metadata": {},
     "output_type": "execute_result"
    }
   ],
   "source": [
    "# ~ WHERE / HAVING\n",
    "df[df[\"education\"] == \"Masters\"].head()"
   ]
  },
  {
   "cell_type": "code",
   "execution_count": 18,
   "metadata": {
    "collapsed": false
   },
   "outputs": [
    {
     "data": {
      "text/html": [
       "<div>\n",
       "<table border=\"1\" class=\"dataframe\">\n",
       "  <thead>\n",
       "    <tr style=\"text-align: right;\">\n",
       "      <th></th>\n",
       "      <th>age</th>\n",
       "      <th>workclass</th>\n",
       "      <th>fnlwgt</th>\n",
       "      <th>education</th>\n",
       "      <th>education-num</th>\n",
       "      <th>marital-status</th>\n",
       "      <th>occupation</th>\n",
       "      <th>relationship</th>\n",
       "      <th>race</th>\n",
       "      <th>sex</th>\n",
       "      <th>capital-gain</th>\n",
       "      <th>capital-loss</th>\n",
       "      <th>hours-per-week</th>\n",
       "      <th>native-country</th>\n",
       "      <th>income</th>\n",
       "    </tr>\n",
       "  </thead>\n",
       "  <tbody>\n",
       "    <tr>\n",
       "      <th>17644</th>\n",
       "      <td>61</td>\n",
       "      <td>?</td>\n",
       "      <td>139391</td>\n",
       "      <td>Some-college</td>\n",
       "      <td>10</td>\n",
       "      <td>Married-civ-spouse</td>\n",
       "      <td>?</td>\n",
       "      <td>Husband</td>\n",
       "      <td>White</td>\n",
       "      <td>Male</td>\n",
       "      <td>99999</td>\n",
       "      <td>0</td>\n",
       "      <td>30</td>\n",
       "      <td>United-States</td>\n",
       "      <td>&gt;50K</td>\n",
       "    </tr>\n",
       "    <tr>\n",
       "      <th>30913</th>\n",
       "      <td>38</td>\n",
       "      <td>Private</td>\n",
       "      <td>185848</td>\n",
       "      <td>Masters</td>\n",
       "      <td>14</td>\n",
       "      <td>Married-civ-spouse</td>\n",
       "      <td>Exec-managerial</td>\n",
       "      <td>Husband</td>\n",
       "      <td>White</td>\n",
       "      <td>Male</td>\n",
       "      <td>99999</td>\n",
       "      <td>0</td>\n",
       "      <td>70</td>\n",
       "      <td>United-States</td>\n",
       "      <td>&gt;50K</td>\n",
       "    </tr>\n",
       "    <tr>\n",
       "      <th>20055</th>\n",
       "      <td>50</td>\n",
       "      <td>Private</td>\n",
       "      <td>183173</td>\n",
       "      <td>HS-grad</td>\n",
       "      <td>9</td>\n",
       "      <td>Married-civ-spouse</td>\n",
       "      <td>Prof-specialty</td>\n",
       "      <td>Husband</td>\n",
       "      <td>White</td>\n",
       "      <td>Male</td>\n",
       "      <td>99999</td>\n",
       "      <td>0</td>\n",
       "      <td>40</td>\n",
       "      <td>United-States</td>\n",
       "      <td>&gt;50K</td>\n",
       "    </tr>\n",
       "    <tr>\n",
       "      <th>6035</th>\n",
       "      <td>78</td>\n",
       "      <td>Self-emp-not-inc</td>\n",
       "      <td>316261</td>\n",
       "      <td>Bachelors</td>\n",
       "      <td>13</td>\n",
       "      <td>Never-married</td>\n",
       "      <td>Exec-managerial</td>\n",
       "      <td>Not-in-family</td>\n",
       "      <td>White</td>\n",
       "      <td>Male</td>\n",
       "      <td>99999</td>\n",
       "      <td>0</td>\n",
       "      <td>20</td>\n",
       "      <td>United-States</td>\n",
       "      <td>&gt;50K</td>\n",
       "    </tr>\n",
       "    <tr>\n",
       "      <th>1826</th>\n",
       "      <td>22</td>\n",
       "      <td>Self-emp-not-inc</td>\n",
       "      <td>202920</td>\n",
       "      <td>HS-grad</td>\n",
       "      <td>9</td>\n",
       "      <td>Never-married</td>\n",
       "      <td>Prof-specialty</td>\n",
       "      <td>Unmarried</td>\n",
       "      <td>White</td>\n",
       "      <td>Female</td>\n",
       "      <td>99999</td>\n",
       "      <td>0</td>\n",
       "      <td>40</td>\n",
       "      <td>Dominican-Republic</td>\n",
       "      <td>&gt;50K</td>\n",
       "    </tr>\n",
       "  </tbody>\n",
       "</table>\n",
       "</div>"
      ],
      "text/plain": [
       "       age         workclass  fnlwgt     education  education-num  \\\n",
       "17644   61                 ?  139391  Some-college             10   \n",
       "30913   38           Private  185848       Masters             14   \n",
       "20055   50           Private  183173       HS-grad              9   \n",
       "6035    78  Self-emp-not-inc  316261     Bachelors             13   \n",
       "1826    22  Self-emp-not-inc  202920       HS-grad              9   \n",
       "\n",
       "           marital-status       occupation   relationship   race     sex  \\\n",
       "17644  Married-civ-spouse                ?        Husband  White    Male   \n",
       "30913  Married-civ-spouse  Exec-managerial        Husband  White    Male   \n",
       "20055  Married-civ-spouse   Prof-specialty        Husband  White    Male   \n",
       "6035        Never-married  Exec-managerial  Not-in-family  White    Male   \n",
       "1826        Never-married   Prof-specialty      Unmarried  White  Female   \n",
       "\n",
       "       capital-gain  capital-loss  hours-per-week      native-country income  \n",
       "17644         99999             0              30       United-States   >50K  \n",
       "30913         99999             0              70       United-States   >50K  \n",
       "20055         99999             0              40       United-States   >50K  \n",
       "6035          99999             0              20       United-States   >50K  \n",
       "1826          99999             0              40  Dominican-Republic   >50K  "
      ]
     },
     "execution_count": 18,
     "metadata": {},
     "output_type": "execute_result"
    }
   ],
   "source": [
    "# ~ ORDER BY\n",
    "df.sort_values(by=\"capital-gain\", ascending=False).head()"
   ]
  },
  {
   "cell_type": "code",
   "execution_count": 19,
   "metadata": {
    "collapsed": false
   },
   "outputs": [
    {
     "data": {
      "text/plain": [
       "marital-status\n",
       "Divorced                 43.041639\n",
       "Married-AF-spouse        32.478261\n",
       "Married-civ-spouse       43.247596\n",
       "Married-spouse-absent    40.578947\n",
       "Never-married            28.150988\n",
       "Separated                39.354146\n",
       "Widowed                  58.975831\n",
       "Name: age, dtype: float64"
      ]
     },
     "execution_count": 19,
     "metadata": {},
     "output_type": "execute_result"
    }
   ],
   "source": [
    "# combination grouping and calculating average values\n",
    "df.groupby(\"marital-status\")[\"age\"].mean()"
   ]
  },
  {
   "cell_type": "code",
   "execution_count": 20,
   "metadata": {
    "collapsed": false
   },
   "outputs": [
    {
     "ename": "ImportError",
     "evalue": "No module named 'seaborn'",
     "output_type": "error",
     "traceback": [
      "\u001b[0;31m---------------------------------------------------------------------------\u001b[0m",
      "\u001b[0;31mImportError\u001b[0m                               Traceback (most recent call last)",
      "\u001b[0;32m<ipython-input-20-fbef540dc236>\u001b[0m in \u001b[0;36m<module>\u001b[0;34m()\u001b[0m\n\u001b[1;32m      1\u001b[0m \u001b[0mget_ipython\u001b[0m\u001b[0;34m(\u001b[0m\u001b[0;34m)\u001b[0m\u001b[0;34m.\u001b[0m\u001b[0mmagic\u001b[0m\u001b[0;34m(\u001b[0m\u001b[0;34m'matplotlib inline'\u001b[0m\u001b[0;34m)\u001b[0m\u001b[0;34m\u001b[0m\u001b[0m\n\u001b[1;32m      2\u001b[0m \u001b[0;31m# comment lines below if you don't have seaborn (yet)\u001b[0m\u001b[0;34m\u001b[0m\u001b[0;34m\u001b[0m\u001b[0m\n\u001b[0;32m----> 3\u001b[0;31m \u001b[0;32mimport\u001b[0m \u001b[0mseaborn\u001b[0m \u001b[0;32mas\u001b[0m \u001b[0msns\u001b[0m\u001b[0;34m\u001b[0m\u001b[0m\n\u001b[0m\u001b[1;32m      4\u001b[0m \u001b[0msns\u001b[0m\u001b[0;34m.\u001b[0m\u001b[0mset_style\u001b[0m\u001b[0;34m(\u001b[0m\u001b[0;34m'whitegrid'\u001b[0m\u001b[0;34m)\u001b[0m\u001b[0;34m\u001b[0m\u001b[0m\n",
      "\u001b[0;31mImportError\u001b[0m: No module named 'seaborn'"
     ]
    }
   ],
   "source": [
    "%matplotlib inline\n",
    "# comment lines below if you don't have seaborn (yet)\n",
    "import seaborn as sns\n",
    "sns.set_style('whitegrid')"
   ]
  },
  {
   "cell_type": "code",
   "execution_count": 21,
   "metadata": {
    "collapsed": false
   },
   "outputs": [
    {
     "data": {
      "text/plain": [
       "<matplotlib.axes._subplots.AxesSubplot at 0x111fc9588>"
      ]
     },
     "execution_count": 21,
     "metadata": {},
     "output_type": "execute_result"
    },
    {
     "data": {
      "image/png": "[encoded data removed]",
      "text/plain": [
       "<matplotlib.figure.Figure at 0x111fa9ba8>"
      ]
     },
     "metadata": {},
     "output_type": "display_data"
    }
   ],
   "source": [
    "df[\"age\"].hist()"
   ]
  },
  {
   "cell_type": "code",
   "execution_count": 22,
   "metadata": {
    "collapsed": false
   },
   "outputs": [
    {
     "data": {
      "text/plain": [
       "<matplotlib.axes._subplots.AxesSubplot at 0x11247c9e8>"
      ]
     },
     "execution_count": 22,
     "metadata": {},
     "output_type": "execute_result"
    },
    {
     "data": {
      "image/png": "[encoded data removed]",
      "text/plain": [
       "<matplotlib.figure.Figure at 0x111fa9ac8>"
      ]
     },
     "metadata": {},
     "output_type": "display_data"
    }
   ],
   "source": [
    "df.groupby(\"age\").size().plot()"
   ]
  },
  {
   "cell_type": "code",
   "execution_count": 23,
   "metadata": {
    "collapsed": false
   },
   "outputs": [
    {
     "data": {
      "text/plain": [
       "Index(['age', 'workclass', 'fnlwgt', 'education', 'education-num',\n",
       "       'marital-status', 'occupation', 'relationship', 'race', 'sex',\n",
       "       'capital-gain', 'capital-loss', 'hours-per-week', 'native-country',\n",
       "       'income'],\n",
       "      dtype='object')"
      ]
     },
     "execution_count": 23,
     "metadata": {},
     "output_type": "execute_result"
    }
   ],
   "source": [
    "df.columns"
   ]
  },
  {
   "cell_type": "code",
   "execution_count": 24,
   "metadata": {
    "collapsed": false
   },
   "outputs": [
    {
     "data": {
      "text/plain": [
       "<matplotlib.axes._subplots.AxesSubplot at 0x113719fd0>"
      ]
     },
     "execution_count": 24,
     "metadata": {},
     "output_type": "execute_result"
    },
    {
     "data": {
      "image/png": "[encoded data removed]",
      "text/plain": [
       "<matplotlib.figure.Figure at 0x113724c18>"
      ]
     },
     "metadata": {},
     "output_type": "display_data"
    }
   ],
   "source": [
    "df[\"marital-status\"].value_counts().plot(kind=\"bar\")"
   ]
  },
  {
   "cell_type": "markdown",
   "metadata": {},
   "source": [
    "## Warning\n",
    "\n",
    "NULL-like values in Python are different!"
   ]
  },
  {
   "cell_type": "code",
   "execution_count": 25,
   "metadata": {
    "collapsed": false
   },
   "outputs": [],
   "source": [
    "# the standard null\n",
    "None"
   ]
  },
  {
   "cell_type": "code",
   "execution_count": 26,
   "metadata": {
    "collapsed": false
   },
   "outputs": [
    {
     "data": {
      "text/plain": [
       "True"
      ]
     },
     "execution_count": 26,
     "metadata": {},
     "output_type": "execute_result"
    }
   ],
   "source": [
    "True or None"
   ]
  },
  {
   "cell_type": "code",
   "execution_count": 30,
   "metadata": {
    "collapsed": true
   },
   "outputs": [],
   "source": [
    "# how does it work with `and`?"
   ]
  },
  {
   "cell_type": "code",
   "execution_count": 27,
   "metadata": {
    "collapsed": false
   },
   "outputs": [
    {
     "ename": "TypeError",
     "evalue": "unorderable types: NoneType() > int()",
     "output_type": "error",
     "traceback": [
      "\u001b[0;31m---------------------------------------------------------------------------\u001b[0m",
      "\u001b[0;31mTypeError\u001b[0m                                 Traceback (most recent call last)",
      "\u001b[0;32m<ipython-input-27-81bc00a8f469>\u001b[0m in \u001b[0;36m<module>\u001b[0;34m()\u001b[0m\n\u001b[1;32m      1\u001b[0m \u001b[0;31m# but...\u001b[0m\u001b[0;34m\u001b[0m\u001b[0;34m\u001b[0m\u001b[0m\n\u001b[0;32m----> 2\u001b[0;31m \u001b[0;32mNone\u001b[0m \u001b[0;34m>\u001b[0m \u001b[0;36m4\u001b[0m\u001b[0;34m\u001b[0m\u001b[0m\n\u001b[0m",
      "\u001b[0;31mTypeError\u001b[0m: unorderable types: NoneType() > int()"
     ]
    }
   ],
   "source": [
    "# but...\n",
    "None > 4"
   ]
  },
  {
   "cell_type": "code",
   "execution_count": 31,
   "metadata": {
    "collapsed": true
   },
   "outputs": [],
   "source": [
    "# in Pandas, it is `nan` fron numpy\n",
    "import numpy as np"
   ]
  },
  {
   "cell_type": "code",
   "execution_count": 32,
   "metadata": {
    "collapsed": false
   },
   "outputs": [
    {
     "data": {
      "text/plain": [
       "nan"
      ]
     },
     "execution_count": 32,
     "metadata": {},
     "output_type": "execute_result"
    }
   ],
   "source": [
    "np.nan"
   ]
  },
  {
   "cell_type": "code",
   "execution_count": 33,
   "metadata": {
    "collapsed": false
   },
   "outputs": [
    {
     "data": {
      "text/plain": [
       "False"
      ]
     },
     "execution_count": 33,
     "metadata": {},
     "output_type": "execute_result"
    }
   ],
   "source": [
    "np.nan == np.nan"
   ]
  },
  {
   "cell_type": "code",
   "execution_count": 34,
   "metadata": {
    "collapsed": false
   },
   "outputs": [
    {
     "data": {
      "text/plain": [
       "False"
      ]
     },
     "execution_count": 34,
     "metadata": {},
     "output_type": "execute_result"
    }
   ],
   "source": [
    "np.nan > 3"
   ]
  },
  {
   "cell_type": "markdown",
   "metadata": {},
   "source": [
    "## Exercises\n",
    "\n",
    "\n",
    "* Look at the 10 people with highest `education-num`.\n",
    "* And with education AND `hour-per-week`.\n",
    "* Look at the most common values of all columns.\n",
    "* What are the most popular jobs, depening on education?\n",
    "* What is the average time in education for women, depending on their `education`?\n",
    "* What is the percentage of married, as a function of age?\n",
    "* Explore...!"
   ]
  },
  {
   "cell_type": "code",
   "execution_count": 35,
   "metadata": {
    "collapsed": false
   },
   "outputs": [
    {
     "data": {
      "text/html": [
       "<div>\n",
       "<table border=\"1\" class=\"dataframe\">\n",
       "  <thead>\n",
       "    <tr style=\"text-align: right;\">\n",
       "      <th></th>\n",
       "      <th>age</th>\n",
       "      <th>workclass</th>\n",
       "      <th>fnlwgt</th>\n",
       "      <th>education</th>\n",
       "      <th>education-num</th>\n",
       "      <th>marital-status</th>\n",
       "      <th>occupation</th>\n",
       "      <th>relationship</th>\n",
       "      <th>race</th>\n",
       "      <th>sex</th>\n",
       "      <th>capital-gain</th>\n",
       "      <th>capital-loss</th>\n",
       "      <th>hours-per-week</th>\n",
       "      <th>native-country</th>\n",
       "      <th>income</th>\n",
       "    </tr>\n",
       "  </thead>\n",
       "  <tbody>\n",
       "    <tr>\n",
       "      <th>11210</th>\n",
       "      <td>36</td>\n",
       "      <td>Self-emp-not-inc</td>\n",
       "      <td>188972</td>\n",
       "      <td>Doctorate</td>\n",
       "      <td>16</td>\n",
       "      <td>Separated</td>\n",
       "      <td>Prof-specialty</td>\n",
       "      <td>Unmarried</td>\n",
       "      <td>White</td>\n",
       "      <td>Female</td>\n",
       "      <td>0</td>\n",
       "      <td>0</td>\n",
       "      <td>10</td>\n",
       "      <td>Canada</td>\n",
       "      <td>&lt;=50K</td>\n",
       "    </tr>\n",
       "    <tr>\n",
       "      <th>4597</th>\n",
       "      <td>55</td>\n",
       "      <td>Private</td>\n",
       "      <td>50164</td>\n",
       "      <td>Doctorate</td>\n",
       "      <td>16</td>\n",
       "      <td>Married-civ-spouse</td>\n",
       "      <td>Exec-managerial</td>\n",
       "      <td>Husband</td>\n",
       "      <td>White</td>\n",
       "      <td>Male</td>\n",
       "      <td>0</td>\n",
       "      <td>0</td>\n",
       "      <td>60</td>\n",
       "      <td>United-States</td>\n",
       "      <td>&gt;50K</td>\n",
       "    </tr>\n",
       "    <tr>\n",
       "      <th>7320</th>\n",
       "      <td>38</td>\n",
       "      <td>State-gov</td>\n",
       "      <td>200289</td>\n",
       "      <td>Doctorate</td>\n",
       "      <td>16</td>\n",
       "      <td>Married-civ-spouse</td>\n",
       "      <td>Prof-specialty</td>\n",
       "      <td>Husband</td>\n",
       "      <td>Asian-Pac-Islander</td>\n",
       "      <td>Male</td>\n",
       "      <td>0</td>\n",
       "      <td>0</td>\n",
       "      <td>40</td>\n",
       "      <td>Taiwan</td>\n",
       "      <td>&lt;=50K</td>\n",
       "    </tr>\n",
       "    <tr>\n",
       "      <th>13466</th>\n",
       "      <td>42</td>\n",
       "      <td>Self-emp-not-inc</td>\n",
       "      <td>24763</td>\n",
       "      <td>Doctorate</td>\n",
       "      <td>16</td>\n",
       "      <td>Married-civ-spouse</td>\n",
       "      <td>Prof-specialty</td>\n",
       "      <td>Husband</td>\n",
       "      <td>White</td>\n",
       "      <td>Male</td>\n",
       "      <td>15024</td>\n",
       "      <td>0</td>\n",
       "      <td>40</td>\n",
       "      <td>United-States</td>\n",
       "      <td>&gt;50K</td>\n",
       "    </tr>\n",
       "    <tr>\n",
       "      <th>19901</th>\n",
       "      <td>40</td>\n",
       "      <td>State-gov</td>\n",
       "      <td>174283</td>\n",
       "      <td>Doctorate</td>\n",
       "      <td>16</td>\n",
       "      <td>Married-civ-spouse</td>\n",
       "      <td>Prof-specialty</td>\n",
       "      <td>Husband</td>\n",
       "      <td>White</td>\n",
       "      <td>Male</td>\n",
       "      <td>0</td>\n",
       "      <td>1887</td>\n",
       "      <td>50</td>\n",
       "      <td>United-States</td>\n",
       "      <td>&gt;50K</td>\n",
       "    </tr>\n",
       "    <tr>\n",
       "      <th>7327</th>\n",
       "      <td>53</td>\n",
       "      <td>State-gov</td>\n",
       "      <td>104501</td>\n",
       "      <td>Doctorate</td>\n",
       "      <td>16</td>\n",
       "      <td>Married-civ-spouse</td>\n",
       "      <td>Prof-specialty</td>\n",
       "      <td>Husband</td>\n",
       "      <td>White</td>\n",
       "      <td>Male</td>\n",
       "      <td>0</td>\n",
       "      <td>0</td>\n",
       "      <td>40</td>\n",
       "      <td>?</td>\n",
       "      <td>&gt;50K</td>\n",
       "    </tr>\n",
       "    <tr>\n",
       "      <th>3602</th>\n",
       "      <td>72</td>\n",
       "      <td>Self-emp-not-inc</td>\n",
       "      <td>52138</td>\n",
       "      <td>Doctorate</td>\n",
       "      <td>16</td>\n",
       "      <td>Married-civ-spouse</td>\n",
       "      <td>Prof-specialty</td>\n",
       "      <td>Husband</td>\n",
       "      <td>White</td>\n",
       "      <td>Male</td>\n",
       "      <td>0</td>\n",
       "      <td>2392</td>\n",
       "      <td>25</td>\n",
       "      <td>United-States</td>\n",
       "      <td>&gt;50K</td>\n",
       "    </tr>\n",
       "    <tr>\n",
       "      <th>10011</th>\n",
       "      <td>30</td>\n",
       "      <td>Private</td>\n",
       "      <td>496414</td>\n",
       "      <td>Doctorate</td>\n",
       "      <td>16</td>\n",
       "      <td>Never-married</td>\n",
       "      <td>Prof-specialty</td>\n",
       "      <td>Not-in-family</td>\n",
       "      <td>White</td>\n",
       "      <td>Male</td>\n",
       "      <td>0</td>\n",
       "      <td>0</td>\n",
       "      <td>40</td>\n",
       "      <td>?</td>\n",
       "      <td>&lt;=50K</td>\n",
       "    </tr>\n",
       "    <tr>\n",
       "      <th>28758</th>\n",
       "      <td>65</td>\n",
       "      <td>Private</td>\n",
       "      <td>176796</td>\n",
       "      <td>Doctorate</td>\n",
       "      <td>16</td>\n",
       "      <td>Widowed</td>\n",
       "      <td>Prof-specialty</td>\n",
       "      <td>Not-in-family</td>\n",
       "      <td>White</td>\n",
       "      <td>Female</td>\n",
       "      <td>0</td>\n",
       "      <td>0</td>\n",
       "      <td>40</td>\n",
       "      <td>United-States</td>\n",
       "      <td>&lt;=50K</td>\n",
       "    </tr>\n",
       "    <tr>\n",
       "      <th>19861</th>\n",
       "      <td>77</td>\n",
       "      <td>Self-emp-inc</td>\n",
       "      <td>84979</td>\n",
       "      <td>Doctorate</td>\n",
       "      <td>16</td>\n",
       "      <td>Married-civ-spouse</td>\n",
       "      <td>Farming-fishing</td>\n",
       "      <td>Husband</td>\n",
       "      <td>White</td>\n",
       "      <td>Male</td>\n",
       "      <td>20051</td>\n",
       "      <td>0</td>\n",
       "      <td>40</td>\n",
       "      <td>United-States</td>\n",
       "      <td>&gt;50K</td>\n",
       "    </tr>\n",
       "  </tbody>\n",
       "</table>\n",
       "</div>"
      ],
      "text/plain": [
       "       age         workclass  fnlwgt  education  education-num  \\\n",
       "11210   36  Self-emp-not-inc  188972  Doctorate             16   \n",
       "4597    55           Private   50164  Doctorate             16   \n",
       "7320    38         State-gov  200289  Doctorate             16   \n",
       "13466   42  Self-emp-not-inc   24763  Doctorate             16   \n",
       "19901   40         State-gov  174283  Doctorate             16   \n",
       "7327    53         State-gov  104501  Doctorate             16   \n",
       "3602    72  Self-emp-not-inc   52138  Doctorate             16   \n",
       "10011   30           Private  496414  Doctorate             16   \n",
       "28758   65           Private  176796  Doctorate             16   \n",
       "19861   77      Self-emp-inc   84979  Doctorate             16   \n",
       "\n",
       "           marital-status       occupation   relationship                race  \\\n",
       "11210           Separated   Prof-specialty      Unmarried               White   \n",
       "4597   Married-civ-spouse  Exec-managerial        Husband               White   \n",
       "7320   Married-civ-spouse   Prof-specialty        Husband  Asian-Pac-Islander   \n",
       "13466  Married-civ-spouse   Prof-specialty        Husband               White   \n",
       "19901  Married-civ-spouse   Prof-specialty        Husband               White   \n",
       "7327   Married-civ-spouse   Prof-specialty        Husband               White   \n",
       "3602   Married-civ-spouse   Prof-specialty        Husband               White   \n",
       "10011       Never-married   Prof-specialty  Not-in-family               White   \n",
       "28758             Widowed   Prof-specialty  Not-in-family               White   \n",
       "19861  Married-civ-spouse  Farming-fishing        Husband               White   \n",
       "\n",
       "          sex  capital-gain  capital-loss  hours-per-week native-country  \\\n",
       "11210  Female             0             0              10         Canada   \n",
       "4597     Male             0             0              60  United-States   \n",
       "7320     Male             0             0              40         Taiwan   \n",
       "13466    Male         15024             0              40  United-States   \n",
       "19901    Male             0          1887              50  United-States   \n",
       "7327     Male             0             0              40              ?   \n",
       "3602     Male             0          2392              25  United-States   \n",
       "10011    Male             0             0              40              ?   \n",
       "28758  Female             0             0              40  United-States   \n",
       "19861    Male         20051             0              40  United-States   \n",
       "\n",
       "      income  \n",
       "11210  <=50K  \n",
       "4597    >50K  \n",
       "7320   <=50K  \n",
       "13466   >50K  \n",
       "19901   >50K  \n",
       "7327    >50K  \n",
       "3602    >50K  \n",
       "10011  <=50K  \n",
       "28758  <=50K  \n",
       "19861   >50K  "
      ]
     },
     "execution_count": 35,
     "metadata": {},
     "output_type": "execute_result"
    }
   ],
   "source": [
    "df.sort_values(by=\"education-num\", ascending=False).head(10)"
   ]
  },
  {
   "cell_type": "code",
   "execution_count": 36,
   "metadata": {
    "collapsed": false
   },
   "outputs": [
    {
     "data": {
      "text/html": [
       "<div>\n",
       "<table border=\"1\" class=\"dataframe\">\n",
       "  <thead>\n",
       "    <tr style=\"text-align: right;\">\n",
       "      <th></th>\n",
       "      <th>age</th>\n",
       "      <th>workclass</th>\n",
       "      <th>fnlwgt</th>\n",
       "      <th>education</th>\n",
       "      <th>education-num</th>\n",
       "      <th>marital-status</th>\n",
       "      <th>occupation</th>\n",
       "      <th>relationship</th>\n",
       "      <th>race</th>\n",
       "      <th>sex</th>\n",
       "      <th>capital-gain</th>\n",
       "      <th>capital-loss</th>\n",
       "      <th>hours-per-week</th>\n",
       "      <th>native-country</th>\n",
       "      <th>income</th>\n",
       "    </tr>\n",
       "  </thead>\n",
       "  <tbody>\n",
       "    <tr>\n",
       "      <th>3578</th>\n",
       "      <td>37</td>\n",
       "      <td>Self-emp-inc</td>\n",
       "      <td>382802</td>\n",
       "      <td>Doctorate</td>\n",
       "      <td>16</td>\n",
       "      <td>Married-civ-spouse</td>\n",
       "      <td>Prof-specialty</td>\n",
       "      <td>Husband</td>\n",
       "      <td>Black</td>\n",
       "      <td>Male</td>\n",
       "      <td>0</td>\n",
       "      <td>0</td>\n",
       "      <td>99</td>\n",
       "      <td>United-States</td>\n",
       "      <td>&gt;50K</td>\n",
       "    </tr>\n",
       "    <tr>\n",
       "      <th>12625</th>\n",
       "      <td>51</td>\n",
       "      <td>Private</td>\n",
       "      <td>160724</td>\n",
       "      <td>Doctorate</td>\n",
       "      <td>16</td>\n",
       "      <td>Married-civ-spouse</td>\n",
       "      <td>Prof-specialty</td>\n",
       "      <td>Husband</td>\n",
       "      <td>Asian-Pac-Islander</td>\n",
       "      <td>Male</td>\n",
       "      <td>0</td>\n",
       "      <td>0</td>\n",
       "      <td>99</td>\n",
       "      <td>South</td>\n",
       "      <td>&lt;=50K</td>\n",
       "    </tr>\n",
       "    <tr>\n",
       "      <th>12788</th>\n",
       "      <td>24</td>\n",
       "      <td>State-gov</td>\n",
       "      <td>208826</td>\n",
       "      <td>Doctorate</td>\n",
       "      <td>16</td>\n",
       "      <td>Never-married</td>\n",
       "      <td>Prof-specialty</td>\n",
       "      <td>Not-in-family</td>\n",
       "      <td>White</td>\n",
       "      <td>Female</td>\n",
       "      <td>0</td>\n",
       "      <td>0</td>\n",
       "      <td>99</td>\n",
       "      <td>England</td>\n",
       "      <td>&lt;=50K</td>\n",
       "    </tr>\n",
       "    <tr>\n",
       "      <th>13858</th>\n",
       "      <td>37</td>\n",
       "      <td>Private</td>\n",
       "      <td>51264</td>\n",
       "      <td>Doctorate</td>\n",
       "      <td>16</td>\n",
       "      <td>Married-civ-spouse</td>\n",
       "      <td>Prof-specialty</td>\n",
       "      <td>Husband</td>\n",
       "      <td>White</td>\n",
       "      <td>Male</td>\n",
       "      <td>0</td>\n",
       "      <td>0</td>\n",
       "      <td>99</td>\n",
       "      <td>France</td>\n",
       "      <td>&gt;50K</td>\n",
       "    </tr>\n",
       "    <tr>\n",
       "      <th>19731</th>\n",
       "      <td>34</td>\n",
       "      <td>Federal-gov</td>\n",
       "      <td>345259</td>\n",
       "      <td>Doctorate</td>\n",
       "      <td>16</td>\n",
       "      <td>Never-married</td>\n",
       "      <td>Prof-specialty</td>\n",
       "      <td>Not-in-family</td>\n",
       "      <td>White</td>\n",
       "      <td>Female</td>\n",
       "      <td>0</td>\n",
       "      <td>0</td>\n",
       "      <td>99</td>\n",
       "      <td>United-States</td>\n",
       "      <td>&lt;=50K</td>\n",
       "    </tr>\n",
       "    <tr>\n",
       "      <th>25831</th>\n",
       "      <td>31</td>\n",
       "      <td>Private</td>\n",
       "      <td>147284</td>\n",
       "      <td>Doctorate</td>\n",
       "      <td>16</td>\n",
       "      <td>Married-civ-spouse</td>\n",
       "      <td>Prof-specialty</td>\n",
       "      <td>Husband</td>\n",
       "      <td>White</td>\n",
       "      <td>Male</td>\n",
       "      <td>0</td>\n",
       "      <td>1977</td>\n",
       "      <td>99</td>\n",
       "      <td>United-States</td>\n",
       "      <td>&gt;50K</td>\n",
       "    </tr>\n",
       "    <tr>\n",
       "      <th>32469</th>\n",
       "      <td>58</td>\n",
       "      <td>Self-emp-inc</td>\n",
       "      <td>181974</td>\n",
       "      <td>Doctorate</td>\n",
       "      <td>16</td>\n",
       "      <td>Never-married</td>\n",
       "      <td>Prof-specialty</td>\n",
       "      <td>Not-in-family</td>\n",
       "      <td>White</td>\n",
       "      <td>Female</td>\n",
       "      <td>0</td>\n",
       "      <td>0</td>\n",
       "      <td>99</td>\n",
       "      <td>?</td>\n",
       "      <td>&lt;=50K</td>\n",
       "    </tr>\n",
       "    <tr>\n",
       "      <th>23749</th>\n",
       "      <td>31</td>\n",
       "      <td>Private</td>\n",
       "      <td>150309</td>\n",
       "      <td>Doctorate</td>\n",
       "      <td>16</td>\n",
       "      <td>Married-civ-spouse</td>\n",
       "      <td>Prof-specialty</td>\n",
       "      <td>Wife</td>\n",
       "      <td>White</td>\n",
       "      <td>Female</td>\n",
       "      <td>0</td>\n",
       "      <td>0</td>\n",
       "      <td>90</td>\n",
       "      <td>United-States</td>\n",
       "      <td>&lt;=50K</td>\n",
       "    </tr>\n",
       "    <tr>\n",
       "      <th>30011</th>\n",
       "      <td>51</td>\n",
       "      <td>Private</td>\n",
       "      <td>392668</td>\n",
       "      <td>Doctorate</td>\n",
       "      <td>16</td>\n",
       "      <td>Married-civ-spouse</td>\n",
       "      <td>Exec-managerial</td>\n",
       "      <td>Husband</td>\n",
       "      <td>White</td>\n",
       "      <td>Male</td>\n",
       "      <td>15024</td>\n",
       "      <td>0</td>\n",
       "      <td>84</td>\n",
       "      <td>United-States</td>\n",
       "      <td>&gt;50K</td>\n",
       "    </tr>\n",
       "    <tr>\n",
       "      <th>5682</th>\n",
       "      <td>55</td>\n",
       "      <td>Private</td>\n",
       "      <td>160662</td>\n",
       "      <td>Doctorate</td>\n",
       "      <td>16</td>\n",
       "      <td>Married-civ-spouse</td>\n",
       "      <td>Exec-managerial</td>\n",
       "      <td>Husband</td>\n",
       "      <td>White</td>\n",
       "      <td>Male</td>\n",
       "      <td>0</td>\n",
       "      <td>0</td>\n",
       "      <td>80</td>\n",
       "      <td>United-States</td>\n",
       "      <td>&gt;50K</td>\n",
       "    </tr>\n",
       "  </tbody>\n",
       "</table>\n",
       "</div>"
      ],
      "text/plain": [
       "       age     workclass  fnlwgt  education  education-num  \\\n",
       "3578    37  Self-emp-inc  382802  Doctorate             16   \n",
       "12625   51       Private  160724  Doctorate             16   \n",
       "12788   24     State-gov  208826  Doctorate             16   \n",
       "13858   37       Private   51264  Doctorate             16   \n",
       "19731   34   Federal-gov  345259  Doctorate             16   \n",
       "25831   31       Private  147284  Doctorate             16   \n",
       "32469   58  Self-emp-inc  181974  Doctorate             16   \n",
       "23749   31       Private  150309  Doctorate             16   \n",
       "30011   51       Private  392668  Doctorate             16   \n",
       "5682    55       Private  160662  Doctorate             16   \n",
       "\n",
       "           marital-status       occupation   relationship                race  \\\n",
       "3578   Married-civ-spouse   Prof-specialty        Husband               Black   \n",
       "12625  Married-civ-spouse   Prof-specialty        Husband  Asian-Pac-Islander   \n",
       "12788       Never-married   Prof-specialty  Not-in-family               White   \n",
       "13858  Married-civ-spouse   Prof-specialty        Husband               White   \n",
       "19731       Never-married   Prof-specialty  Not-in-family               White   \n",
       "25831  Married-civ-spouse   Prof-specialty        Husband               White   \n",
       "32469       Never-married   Prof-specialty  Not-in-family               White   \n",
       "23749  Married-civ-spouse   Prof-specialty           Wife               White   \n",
       "30011  Married-civ-spouse  Exec-managerial        Husband               White   \n",
       "5682   Married-civ-spouse  Exec-managerial        Husband               White   \n",
       "\n",
       "          sex  capital-gain  capital-loss  hours-per-week native-country  \\\n",
       "3578     Male             0             0              99  United-States   \n",
       "12625    Male             0             0              99          South   \n",
       "12788  Female             0             0              99        England   \n",
       "13858    Male             0             0              99         France   \n",
       "19731  Female             0             0              99  United-States   \n",
       "25831    Male             0          1977              99  United-States   \n",
       "32469  Female             0             0              99              ?   \n",
       "23749  Female             0             0              90  United-States   \n",
       "30011    Male         15024             0              84  United-States   \n",
       "5682     Male             0             0              80  United-States   \n",
       "\n",
       "      income  \n",
       "3578    >50K  \n",
       "12625  <=50K  \n",
       "12788  <=50K  \n",
       "13858   >50K  \n",
       "19731  <=50K  \n",
       "25831   >50K  \n",
       "32469  <=50K  \n",
       "23749  <=50K  \n",
       "30011   >50K  \n",
       "5682    >50K  "
      ]
     },
     "execution_count": 36,
     "metadata": {},
     "output_type": "execute_result"
    }
   ],
   "source": [
    "df.sort_values(by=[\"education-num\", \"hours-per-week\"], ascending=False).head(10)"
   ]
  },
  {
   "cell_type": "code",
   "execution_count": 37,
   "metadata": {
    "collapsed": false
   },
   "outputs": [
    {
     "data": {
      "text/html": [
       "<div>\n",
       "<table border=\"1\" class=\"dataframe\">\n",
       "  <thead>\n",
       "    <tr style=\"text-align: right;\">\n",
       "      <th></th>\n",
       "      <th>age</th>\n",
       "      <th>workclass</th>\n",
       "      <th>fnlwgt</th>\n",
       "      <th>education</th>\n",
       "      <th>education-num</th>\n",
       "      <th>marital-status</th>\n",
       "      <th>occupation</th>\n",
       "      <th>relationship</th>\n",
       "      <th>race</th>\n",
       "      <th>sex</th>\n",
       "      <th>capital-gain</th>\n",
       "      <th>capital-loss</th>\n",
       "      <th>hours-per-week</th>\n",
       "      <th>native-country</th>\n",
       "      <th>income</th>\n",
       "    </tr>\n",
       "  </thead>\n",
       "  <tbody>\n",
       "    <tr>\n",
       "      <th>32531</th>\n",
       "      <td>30</td>\n",
       "      <td>?</td>\n",
       "      <td>33811</td>\n",
       "      <td>Bachelors</td>\n",
       "      <td>13</td>\n",
       "      <td>Never-married</td>\n",
       "      <td>?</td>\n",
       "      <td>Not-in-family</td>\n",
       "      <td>Asian-Pac-Islander</td>\n",
       "      <td>Female</td>\n",
       "      <td>0</td>\n",
       "      <td>0</td>\n",
       "      <td>99</td>\n",
       "      <td>United-States</td>\n",
       "      <td>&lt;=50K</td>\n",
       "    </tr>\n",
       "    <tr>\n",
       "      <th>31681</th>\n",
       "      <td>43</td>\n",
       "      <td>Private</td>\n",
       "      <td>266324</td>\n",
       "      <td>HS-grad</td>\n",
       "      <td>9</td>\n",
       "      <td>Married-civ-spouse</td>\n",
       "      <td>Craft-repair</td>\n",
       "      <td>Husband</td>\n",
       "      <td>White</td>\n",
       "      <td>Male</td>\n",
       "      <td>0</td>\n",
       "      <td>1902</td>\n",
       "      <td>99</td>\n",
       "      <td>United-States</td>\n",
       "      <td>&gt;50K</td>\n",
       "    </tr>\n",
       "    <tr>\n",
       "      <th>6618</th>\n",
       "      <td>27</td>\n",
       "      <td>Private</td>\n",
       "      <td>336951</td>\n",
       "      <td>HS-grad</td>\n",
       "      <td>9</td>\n",
       "      <td>Married-civ-spouse</td>\n",
       "      <td>Transport-moving</td>\n",
       "      <td>Husband</td>\n",
       "      <td>White</td>\n",
       "      <td>Male</td>\n",
       "      <td>0</td>\n",
       "      <td>0</td>\n",
       "      <td>99</td>\n",
       "      <td>United-States</td>\n",
       "      <td>&lt;=50K</td>\n",
       "    </tr>\n",
       "    <tr>\n",
       "      <th>19053</th>\n",
       "      <td>27</td>\n",
       "      <td>Private</td>\n",
       "      <td>40295</td>\n",
       "      <td>HS-grad</td>\n",
       "      <td>9</td>\n",
       "      <td>Never-married</td>\n",
       "      <td>Transport-moving</td>\n",
       "      <td>Not-in-family</td>\n",
       "      <td>White</td>\n",
       "      <td>Male</td>\n",
       "      <td>0</td>\n",
       "      <td>0</td>\n",
       "      <td>99</td>\n",
       "      <td>United-States</td>\n",
       "      <td>&lt;=50K</td>\n",
       "    </tr>\n",
       "    <tr>\n",
       "      <th>28112</th>\n",
       "      <td>61</td>\n",
       "      <td>?</td>\n",
       "      <td>158712</td>\n",
       "      <td>HS-grad</td>\n",
       "      <td>9</td>\n",
       "      <td>Divorced</td>\n",
       "      <td>?</td>\n",
       "      <td>Not-in-family</td>\n",
       "      <td>White</td>\n",
       "      <td>Female</td>\n",
       "      <td>0</td>\n",
       "      <td>0</td>\n",
       "      <td>99</td>\n",
       "      <td>United-States</td>\n",
       "      <td>&lt;=50K</td>\n",
       "    </tr>\n",
       "    <tr>\n",
       "      <th>11833</th>\n",
       "      <td>58</td>\n",
       "      <td>Private</td>\n",
       "      <td>164857</td>\n",
       "      <td>Bachelors</td>\n",
       "      <td>13</td>\n",
       "      <td>Never-married</td>\n",
       "      <td>Prof-specialty</td>\n",
       "      <td>Not-in-family</td>\n",
       "      <td>White</td>\n",
       "      <td>Male</td>\n",
       "      <td>0</td>\n",
       "      <td>0</td>\n",
       "      <td>99</td>\n",
       "      <td>United-States</td>\n",
       "      <td>&lt;=50K</td>\n",
       "    </tr>\n",
       "    <tr>\n",
       "      <th>5432</th>\n",
       "      <td>44</td>\n",
       "      <td>Private</td>\n",
       "      <td>83508</td>\n",
       "      <td>Prof-school</td>\n",
       "      <td>15</td>\n",
       "      <td>Divorced</td>\n",
       "      <td>Prof-specialty</td>\n",
       "      <td>Not-in-family</td>\n",
       "      <td>White</td>\n",
       "      <td>Female</td>\n",
       "      <td>2354</td>\n",
       "      <td>0</td>\n",
       "      <td>99</td>\n",
       "      <td>United-States</td>\n",
       "      <td>&lt;=50K</td>\n",
       "    </tr>\n",
       "    <tr>\n",
       "      <th>19731</th>\n",
       "      <td>34</td>\n",
       "      <td>Federal-gov</td>\n",
       "      <td>345259</td>\n",
       "      <td>Doctorate</td>\n",
       "      <td>16</td>\n",
       "      <td>Never-married</td>\n",
       "      <td>Prof-specialty</td>\n",
       "      <td>Not-in-family</td>\n",
       "      <td>White</td>\n",
       "      <td>Female</td>\n",
       "      <td>0</td>\n",
       "      <td>0</td>\n",
       "      <td>99</td>\n",
       "      <td>United-States</td>\n",
       "      <td>&lt;=50K</td>\n",
       "    </tr>\n",
       "    <tr>\n",
       "      <th>24483</th>\n",
       "      <td>39</td>\n",
       "      <td>Self-emp-inc</td>\n",
       "      <td>124685</td>\n",
       "      <td>Masters</td>\n",
       "      <td>14</td>\n",
       "      <td>Divorced</td>\n",
       "      <td>Exec-managerial</td>\n",
       "      <td>Not-in-family</td>\n",
       "      <td>Asian-Pac-Islander</td>\n",
       "      <td>Male</td>\n",
       "      <td>0</td>\n",
       "      <td>0</td>\n",
       "      <td>99</td>\n",
       "      <td>Japan</td>\n",
       "      <td>&gt;50K</td>\n",
       "    </tr>\n",
       "    <tr>\n",
       "      <th>5376</th>\n",
       "      <td>43</td>\n",
       "      <td>Private</td>\n",
       "      <td>86750</td>\n",
       "      <td>Assoc-voc</td>\n",
       "      <td>11</td>\n",
       "      <td>Married-civ-spouse</td>\n",
       "      <td>Craft-repair</td>\n",
       "      <td>Husband</td>\n",
       "      <td>White</td>\n",
       "      <td>Male</td>\n",
       "      <td>0</td>\n",
       "      <td>0</td>\n",
       "      <td>99</td>\n",
       "      <td>United-States</td>\n",
       "      <td>&lt;=50K</td>\n",
       "    </tr>\n",
       "  </tbody>\n",
       "</table>\n",
       "</div>"
      ],
      "text/plain": [
       "       age     workclass  fnlwgt    education  education-num  \\\n",
       "32531   30             ?   33811    Bachelors             13   \n",
       "31681   43       Private  266324      HS-grad              9   \n",
       "6618    27       Private  336951      HS-grad              9   \n",
       "19053   27       Private   40295      HS-grad              9   \n",
       "28112   61             ?  158712      HS-grad              9   \n",
       "11833   58       Private  164857    Bachelors             13   \n",
       "5432    44       Private   83508  Prof-school             15   \n",
       "19731   34   Federal-gov  345259    Doctorate             16   \n",
       "24483   39  Self-emp-inc  124685      Masters             14   \n",
       "5376    43       Private   86750    Assoc-voc             11   \n",
       "\n",
       "           marital-status        occupation   relationship  \\\n",
       "32531       Never-married                 ?  Not-in-family   \n",
       "31681  Married-civ-spouse      Craft-repair        Husband   \n",
       "6618   Married-civ-spouse  Transport-moving        Husband   \n",
       "19053       Never-married  Transport-moving  Not-in-family   \n",
       "28112            Divorced                 ?  Not-in-family   \n",
       "11833       Never-married    Prof-specialty  Not-in-family   \n",
       "5432             Divorced    Prof-specialty  Not-in-family   \n",
       "19731       Never-married    Prof-specialty  Not-in-family   \n",
       "24483            Divorced   Exec-managerial  Not-in-family   \n",
       "5376   Married-civ-spouse      Craft-repair        Husband   \n",
       "\n",
       "                     race     sex  capital-gain  capital-loss  hours-per-week  \\\n",
       "32531  Asian-Pac-Islander  Female             0             0              99   \n",
       "31681               White    Male             0          1902              99   \n",
       "6618                White    Male             0             0              99   \n",
       "19053               White    Male             0             0              99   \n",
       "28112               White  Female             0             0              99   \n",
       "11833               White    Male             0             0              99   \n",
       "5432                White  Female          2354             0              99   \n",
       "19731               White  Female             0             0              99   \n",
       "24483  Asian-Pac-Islander    Male             0             0              99   \n",
       "5376                White    Male             0             0              99   \n",
       "\n",
       "      native-country income  \n",
       "32531  United-States  <=50K  \n",
       "31681  United-States   >50K  \n",
       "6618   United-States  <=50K  \n",
       "19053  United-States  <=50K  \n",
       "28112  United-States  <=50K  \n",
       "11833  United-States  <=50K  \n",
       "5432   United-States  <=50K  \n",
       "19731  United-States  <=50K  \n",
       "24483          Japan   >50K  \n",
       "5376   United-States  <=50K  "
      ]
     },
     "execution_count": 37,
     "metadata": {},
     "output_type": "execute_result"
    }
   ],
   "source": [
    "df.sort_values(by=\"education-num\", ascending=False) \\\n",
    "  .sort_values(by=\"hours-per-week\", ascending=False).head(10)"
   ]
  },
  {
   "cell_type": "code",
   "execution_count": 38,
   "metadata": {
    "collapsed": false
   },
   "outputs": [
    {
     "data": {
      "text/plain": [
       "Index(['age', 'workclass', 'fnlwgt', 'education', 'education-num',\n",
       "       'marital-status', 'occupation', 'relationship', 'race', 'sex',\n",
       "       'capital-gain', 'capital-loss', 'hours-per-week', 'native-country',\n",
       "       'income'],\n",
       "      dtype='object')"
      ]
     },
     "execution_count": 38,
     "metadata": {},
     "output_type": "execute_result"
    }
   ],
   "source": [
    "df.columns"
   ]
  },
  {
   "cell_type": "code",
   "execution_count": 39,
   "metadata": {
    "collapsed": false
   },
   "outputs": [
    {
     "data": {
      "text/plain": [
       "36    898\n",
       "31    888\n",
       "34    886\n",
       "23    877\n",
       "35    876\n",
       "Name: age, dtype: int64"
      ]
     },
     "execution_count": 39,
     "metadata": {},
     "output_type": "execute_result"
    }
   ],
   "source": [
    "df[\"age\"].value_counts().head()"
   ]
  },
  {
   "cell_type": "code",
   "execution_count": 40,
   "metadata": {
    "collapsed": false
   },
   "outputs": [
    {
     "data": {
      "text/plain": [
       "Private             22696\n",
       "Self-emp-not-inc     2541\n",
       "Local-gov            2093\n",
       "?                    1836\n",
       "State-gov            1298\n",
       "Name: workclass, dtype: int64"
      ]
     },
     "execution_count": 40,
     "metadata": {},
     "output_type": "execute_result"
    }
   ],
   "source": [
    "df[\"workclass\"].value_counts().head()"
   ]
  },
  {
   "cell_type": "code",
   "execution_count": 41,
   "metadata": {
    "collapsed": false
   },
   "outputs": [
    {
     "name": "stdout",
     "output_type": "stream",
     "text": [
      "age\n",
      "36    898\n",
      "31    888\n",
      "Name: age, dtype: int64\n",
      "\n",
      "\n",
      "\n",
      "workclass\n",
      "Private             22696\n",
      "Self-emp-not-inc     2541\n",
      "Name: workclass, dtype: int64\n",
      "\n",
      "\n",
      "\n",
      "fnlwgt\n",
      "164190    13\n",
      "203488    13\n",
      "Name: fnlwgt, dtype: int64\n",
      "\n",
      "\n",
      "\n",
      "education\n",
      "HS-grad         10501\n",
      "Some-college     7291\n",
      "Name: education, dtype: int64\n",
      "\n",
      "\n",
      "\n",
      "education-num\n",
      "9     10501\n",
      "10     7291\n",
      "Name: education-num, dtype: int64\n",
      "\n",
      "\n",
      "\n",
      "marital-status\n",
      "Married-civ-spouse    14976\n",
      "Never-married         10683\n",
      "Name: marital-status, dtype: int64\n",
      "\n",
      "\n",
      "\n",
      "occupation\n",
      "Prof-specialty    4140\n",
      "Craft-repair      4099\n",
      "Name: occupation, dtype: int64\n",
      "\n",
      "\n",
      "\n",
      "relationship\n",
      "Husband          13193\n",
      "Not-in-family     8305\n",
      "Name: relationship, dtype: int64\n",
      "\n",
      "\n",
      "\n",
      "race\n",
      "White    27816\n",
      "Black     3124\n",
      "Name: race, dtype: int64\n",
      "\n",
      "\n",
      "\n",
      "sex\n",
      "Male      21790\n",
      "Female    10771\n",
      "Name: sex, dtype: int64\n",
      "\n",
      "\n",
      "\n",
      "capital-gain\n",
      "0        29849\n",
      "15024      347\n",
      "Name: capital-gain, dtype: int64\n",
      "\n",
      "\n",
      "\n",
      "capital-loss\n",
      "0       31042\n",
      "1902      202\n",
      "Name: capital-loss, dtype: int64\n",
      "\n",
      "\n",
      "\n",
      "hours-per-week\n",
      "40    15217\n",
      "50     2819\n",
      "Name: hours-per-week, dtype: int64\n",
      "\n",
      "\n",
      "\n",
      "native-country\n",
      "United-States    29170\n",
      "Mexico             643\n",
      "Name: native-country, dtype: int64\n",
      "\n",
      "\n",
      "\n",
      "income\n",
      "<=50K    24720\n",
      ">50K      7841\n",
      "Name: income, dtype: int64\n",
      "\n",
      "\n",
      "\n"
     ]
    }
   ],
   "source": [
    "for column in df.columns:\n",
    "    print(column)\n",
    "    print(df[column].value_counts().head(2))\n",
    "    print(\"\\n\\n\")"
   ]
  },
  {
   "cell_type": "markdown",
   "metadata": {},
   "source": [
    "## Further reading\n",
    "\n",
    "* Pandas general\n",
    "    * [Tutorials - Pandas Documentation](http://pandas.pydata.org/pandas-docs/stable/tutorials.html)\n",
    "* Pandas plotting\n",
    "    * [Visualization - Pandas Documentation](http://pandas.pydata.org/pandas-docs/stable/visualization.html)\n",
    "    * [Seaborn: statistical data visualization](https://stanford.edu/~mwaskom/software/seaborn/)\n",
    "* Pandas vs SQL\n",
    "    * [Comparison with SQL - Pandas Documentation](http://pandas.pydata.org/pandas-docs/stable/comparison_with_sql.html)\n",
    "    * [SQL for pandas DataFrames - yhat](http://blog.yhat.com/posts/pandasql-sql-for-pandas-dataframes.html)\n",
    "    * [Predicting sales: Pandas vs SQL - FastML](http://fastml.com/predicting-sales-pandas-vs-sql/)\n",
    "* R\n",
    "    * [Comparison with R / R libraries - Pandas Documentation](http://pandas.pydata.org/pandas-docs/stable/comparison_with_r.html)\n",
    "    * [R dplyr translates to SQL](https://cran.r-project.org/web/packages/dplyr/vignettes/databases.html)"
   ]
  },
  {
   "cell_type": "code",
   "execution_count": 46,
   "metadata": {
    "collapsed": false
   },
   "outputs": [
    {
     "data": {
      "text/plain": [
       "education     occupation       \n",
       "10th          Other-service         194\n",
       "              Craft-repair          170\n",
       "              ?                     102\n",
       "              Machine-op-inspct     101\n",
       "              Transport-moving       84\n",
       "              Sales                  81\n",
       "              Handlers-cleaners      71\n",
       "              Farming-fishing        44\n",
       "              Adm-clerical           38\n",
       "              Exec-managerial        24\n",
       "              Prof-specialty          9\n",
       "              Priv-house-serv         6\n",
       "              Protective-serv         6\n",
       "              Tech-support            3\n",
       "11th          Other-service         238\n",
       "              Craft-repair          175\n",
       "              Sales                 144\n",
       "              Handlers-cleaners     123\n",
       "              ?                     119\n",
       "              Machine-op-inspct      99\n",
       "              Transport-moving       92\n",
       "              Adm-clerical           67\n",
       "              Farming-fishing        37\n",
       "              Exec-managerial        34\n",
       "              Prof-specialty         20\n",
       "              Priv-house-serv        14\n",
       "              Protective-serv         7\n",
       "              Tech-support            6\n",
       "12th          Other-service          85\n",
       "              Craft-repair           58\n",
       "                                   ... \n",
       "Preschool     Handlers-cleaners       2\n",
       "              Priv-house-serv         2\n",
       "              Prof-specialty          1\n",
       "Prof-school   Prof-specialty        452\n",
       "              Exec-managerial        52\n",
       "              ?                      18\n",
       "              Sales                  18\n",
       "              Adm-clerical            9\n",
       "              Craft-repair            7\n",
       "              Tech-support            7\n",
       "              Farming-fishing         4\n",
       "              Other-service           4\n",
       "              Transport-moving        3\n",
       "              Machine-op-inspct       1\n",
       "              Protective-serv         1\n",
       "Some-college  Adm-clerical         1281\n",
       "              Sales                1009\n",
       "              Exec-managerial       879\n",
       "              Craft-repair          868\n",
       "              Other-service         781\n",
       "              ?                     516\n",
       "              Prof-specialty        430\n",
       "              Machine-op-inspct     310\n",
       "              Transport-moving      283\n",
       "              Tech-support          273\n",
       "              Handlers-cleaners     267\n",
       "              Protective-serv       202\n",
       "              Farming-fishing       174\n",
       "              Priv-house-serv        16\n",
       "              Armed-Forces            2\n",
       "Name: occupation, dtype: int64"
      ]
     },
     "execution_count": 46,
     "metadata": {},
     "output_type": "execute_result"
    }
   ],
   "source": [
    "# What are the most popular jobs, depening on education?\n",
    "df.groupby(\"education\")[\"occupation\"].value_counts()"
   ]
  },
  {
   "cell_type": "code",
   "execution_count": 47,
   "metadata": {
    "collapsed": false
   },
   "outputs": [
    {
     "data": {
      "text/plain": [
       "education\n",
       "10th            32.111864\n",
       "11th            29.821759\n",
       "12th            31.791667\n",
       "1st-4th         31.978261\n",
       "5th-6th         36.047619\n",
       "7th-8th         36.200000\n",
       "9th             33.916667\n",
       "Assoc-acdm      37.358670\n",
       "Assoc-voc       37.830000\n",
       "Bachelors       39.329216\n",
       "Doctorate       47.302326\n",
       "HS-grad         36.577286\n",
       "Masters         41.113806\n",
       "Preschool       31.875000\n",
       "Prof-school     44.793478\n",
       "Some-college    34.574840\n",
       "Name: hours-per-week, dtype: float64"
      ]
     },
     "execution_count": 47,
     "metadata": {},
     "output_type": "execute_result"
    }
   ],
   "source": [
    "# What is the average time in education for women, depending on their `education`?\n",
    "\n",
    "df[df['sex'] == 'Female'].groupby('education')['hours-per-week'].mean()"
   ]
  },
  {
   "cell_type": "code",
   "execution_count": 53,
   "metadata": {
    "collapsed": false
   },
   "outputs": [
    {
     "data": {
      "text/plain": [
       "age  marital-status\n",
       "17   Never-married     0.994937\n",
       "18   Never-married     0.980000\n",
       "19   Never-married     0.956461\n",
       "20   Never-married     0.922975\n",
       "21   Never-married     0.904167\n",
       "22   Never-married     0.850980\n",
       "23   Never-married     0.817560\n",
       "24   Never-married     0.710526\n",
       "25   Never-married     0.668252\n",
       "26   Never-married     0.596178\n",
       "27   Never-married     0.571257\n",
       "28   Never-married     0.482122\n",
       "29   Never-married     0.426814\n",
       "30   Never-married     0.371661\n",
       "31   Never-married     0.343468\n",
       "32   Never-married     0.295894\n",
       "33   Never-married     0.294857\n",
       "34   Never-married     0.273138\n",
       "35   Never-married     0.239726\n",
       "36   Never-married     0.220490\n",
       "37   Never-married     0.184149\n",
       "38   Never-married     0.163241\n",
       "39   Never-married     0.185049\n",
       "40   Never-married     0.170025\n",
       "41   Never-married     0.132426\n",
       "42   Never-married     0.120513\n",
       "43   Never-married     0.116883\n",
       "44   Never-married     0.128453\n",
       "45   Never-married     0.108992\n",
       "46   Never-married     0.103121\n",
       "                         ...   \n",
       "54   Never-married     0.079518\n",
       "55   Never-married     0.057279\n",
       "56   Never-married     0.073770\n",
       "57   Never-married     0.061453\n",
       "58   Never-married     0.081967\n",
       "59   Never-married     0.067606\n",
       "60   Never-married     0.025641\n",
       "61   Never-married     0.046667\n",
       "62   Never-married     0.058140\n",
       "63   Never-married     0.056522\n",
       "64   Never-married     0.072115\n",
       "65   Never-married     0.039326\n",
       "66   Never-married     0.053333\n",
       "67   Never-married     0.046358\n",
       "68   Never-married     0.066667\n",
       "69   Never-married     0.055556\n",
       "70   Never-married     0.067416\n",
       "71   Never-married     0.111111\n",
       "72   Never-married     0.029851\n",
       "73   Never-married     0.046875\n",
       "74   Never-married     0.019608\n",
       "75   Never-married     0.088889\n",
       "76   Never-married     0.043478\n",
       "77   Never-married     0.103448\n",
       "78   Never-married     0.086957\n",
       "80   Never-married     0.136364\n",
       "82   Never-married     0.083333\n",
       "84   Never-married     0.100000\n",
       "86   Never-married     1.000000\n",
       "90   Never-married     0.325581\n",
       "dtype: float64"
      ]
     },
     "execution_count": 53,
     "metadata": {},
     "output_type": "execute_result"
    }
   ],
   "source": [
    "# What is the percentage of married, as a function of age?\n",
    "\n",
    "df1 = df[df['marital-status'] == 'Never-married'].groupby('age')['marital-status'].value_counts()\n",
    "df2 = df.groupby('age')['marital-status'].size()\n",
    "\n",
    "percentage = df1/df2\n",
    "percentage"
   ]
  },
  {
   "cell_type": "code",
   "execution_count": null,
   "metadata": {
    "collapsed": true
   },
   "outputs": [],
   "source": []
  }
 ],
 "metadata": {
  "anaconda-cloud": {},
  "kernelspec": {
   "display_name": "Python [Root]",
   "language": "python",
   "name": "Python [Root]"
  },
  "language_info": {
   "codemirror_mode": {
    "name": "ipython",
    "version": 3
   },
   "file_extension": ".py",
   "mimetype": "text/x-python",
   "name": "python",
   "nbconvert_exporter": "python",
   "pygments_lexer": "ipython3",
   "version": "3.5.2"
  }
 },
 "nbformat": 4,
 "nbformat_minor": 1
}
