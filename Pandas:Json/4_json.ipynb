{
 "cells": [
  {
   "cell_type": "markdown",
   "metadata": {},
   "source": [
    "# Class 6 Notebook 2: JSON\n",
    "\n",
    "Class 6 (5 Dec 2016) of [BS1804-1617 Fundamentals of Database Technologies](https://imperialbusiness.school/category/bs1804-1617/) by [Piotr Migdał](http://p.migdal.pl/)\n",
    "\n",
    "[JSON](https://en.wikipedia.org/wiki/JSON) stand for **JavaScript Object Notation**.\n",
    "JSON files traditionally end with `.json`.\n",
    "\n",
    "References:\n",
    "\n",
    "* [json — JSON encoder and decoder - The Python Standard Library](https://docs.python.org/3/library/json.html)\n",
    "* [How to Work With JSON Data Using Python](https://code.tutsplus.com/tutorials/how-to-work-with-json-data-using-python--cms-25758)\n",
    "* [Render JSON into collapsible HTML](http://caldwell.github.io/renderjson/) for a demo\n",
    "\n",
    "* In Python, it works with:\n",
    "    * dictionaries,\n",
    "    * lists,\n",
    "    * integers,\n",
    "    * floats,\n",
    "    * strings,\n",
    "    * True/False/None."
   ]
  },
  {
   "cell_type": "code",
   "execution_count": 1,
   "metadata": {
    "collapsed": true
   },
   "outputs": [],
   "source": [
    "# we need to import a library\n",
    "import json"
   ]
  },
  {
   "cell_type": "code",
   "execution_count": 2,
   "metadata": {
    "collapsed": true
   },
   "outputs": [],
   "source": [
    "# creating a dictionary\n",
    "x = [{\"a\": 1, \"b\": 2.5, 1337: \"car\"},\n",
    "     {\"a\": 99, \"c\": \"train\"},\n",
    "     {\"a\": -4, \"b\": -0.1, \"c\": \"plane\"}]"
   ]
  },
  {
   "cell_type": "code",
   "execution_count": 3,
   "metadata": {
    "collapsed": false
   },
   "outputs": [
    {
     "data": {
      "text/plain": [
       "[{'b': 2.5, 'a': 1, 1337: 'car'},\n",
       " {'a': 99, 'c': 'train'},\n",
       " {'a': -4, 'b': -0.1, 'c': 'plane'}]"
      ]
     },
     "execution_count": 3,
     "metadata": {},
     "output_type": "execute_result"
    }
   ],
   "source": [
    "x"
   ]
  },
  {
   "cell_type": "code",
   "execution_count": 4,
   "metadata": {
    "collapsed": false
   },
   "outputs": [
    {
     "data": {
      "text/plain": [
       "'[{\"b\": 2.5, \"a\": 1, \"1337\": \"car\"}, {\"c\": \"train\", \"a\": 99}, {\"b\": -0.1, \"c\": \"plane\", \"a\": -4}]'"
      ]
     },
     "execution_count": 4,
     "metadata": {},
     "output_type": "execute_result"
    }
   ],
   "source": [
    "# create a string from a Python\n",
    "json.dumps(x)"
   ]
  },
  {
   "cell_type": "code",
   "execution_count": 5,
   "metadata": {
    "collapsed": false
   },
   "outputs": [
    {
     "data": {
      "text/plain": [
       "'[\\n  {\\n    \"b\": 2.5,\\n    \"a\": 1,\\n    \"1337\": \"car\"\\n  },\\n  {\\n    \"c\": \"train\",\\n    \"a\": 99\\n  },\\n  {\\n    \"b\": -0.1,\\n    \"c\": \"plane\",\\n    \"a\": -4\\n  }\\n]'"
      ]
     },
     "execution_count": 5,
     "metadata": {},
     "output_type": "execute_result"
    }
   ],
   "source": [
    "# with indentions\n",
    "json.dumps(x, indent=2)"
   ]
  },
  {
   "cell_type": "code",
   "execution_count": 6,
   "metadata": {
    "collapsed": false
   },
   "outputs": [
    {
     "name": "stdout",
     "output_type": "stream",
     "text": [
      "[\n",
      "  {\n",
      "    \"b\": 2.5,\n",
      "    \"a\": 1,\n",
      "    \"1337\": \"car\"\n",
      "  },\n",
      "  {\n",
      "    \"c\": \"train\",\n",
      "    \"a\": 99\n",
      "  },\n",
      "  {\n",
      "    \"b\": -0.1,\n",
      "    \"c\": \"plane\",\n",
      "    \"a\": -4\n",
      "  }\n",
      "]\n"
     ]
    }
   ],
   "source": [
    "# its clarity is not obvious until we print it:\n",
    "print(json.dumps(x, indent=2))"
   ]
  },
  {
   "cell_type": "code",
   "execution_count": 7,
   "metadata": {
    "collapsed": true
   },
   "outputs": [],
   "source": [
    "# save a file\n",
    "# (and open in in a text editor, or with Jupyter Notebook)\n",
    "json.dump(x, open(\"file.json\", \"w\"))"
   ]
  },
  {
   "cell_type": "code",
   "execution_count": 8,
   "metadata": {
    "collapsed": true
   },
   "outputs": [],
   "source": [
    "# load\n",
    "new_x = json.load(open(\"file.json\"))"
   ]
  },
  {
   "cell_type": "code",
   "execution_count": 9,
   "metadata": {
    "collapsed": false
   },
   "outputs": [
    {
     "data": {
      "text/plain": [
       "[{'1337': 'car', 'a': 1, 'b': 2.5},\n",
       " {'a': 99, 'c': 'train'},\n",
       " {'a': -4, 'b': -0.1, 'c': 'plane'}]"
      ]
     },
     "execution_count": 9,
     "metadata": {},
     "output_type": "execute_result"
    }
   ],
   "source": [
    "new_x"
   ]
  },
  {
   "cell_type": "markdown",
   "metadata": {},
   "source": [
    "## json library\n",
    "\n",
    "* To/from file:\n",
    "    * json.dump\n",
    "    * json.load\n",
    "*  To/from string:\n",
    "    * json.dumps\n",
    "    * json.loads"
   ]
  },
  {
   "cell_type": "markdown",
   "metadata": {},
   "source": [
    "## Pandas\n",
    "\n",
    "We can import and export *some* JSON objects with Pandas."
   ]
  },
  {
   "cell_type": "code",
   "execution_count": 10,
   "metadata": {
    "collapsed": true
   },
   "outputs": [],
   "source": [
    "# importing Pandas\n",
    "import pandas as pd"
   ]
  },
  {
   "cell_type": "code",
   "execution_count": 11,
   "metadata": {
    "collapsed": true
   },
   "outputs": [],
   "source": [
    "x = [{\"a\": 1, \"b\": 2.5, \"c\": \"car\"},\n",
    "     {\"a\": 99, \"c\": \"train\"},\n",
    "     {\"a\": -4, \"b\": -0.1, \"c\": \"plane\"}]"
   ]
  },
  {
   "cell_type": "code",
   "execution_count": 12,
   "metadata": {
    "collapsed": true
   },
   "outputs": [],
   "source": [
    "df = pd.DataFrame(x)"
   ]
  },
  {
   "cell_type": "code",
   "execution_count": 13,
   "metadata": {
    "collapsed": false
   },
   "outputs": [
    {
     "data": {
      "text/html": [
       "<div>\n",
       "<table border=\"1\" class=\"dataframe\">\n",
       "  <thead>\n",
       "    <tr style=\"text-align: right;\">\n",
       "      <th></th>\n",
       "      <th>a</th>\n",
       "      <th>b</th>\n",
       "      <th>c</th>\n",
       "    </tr>\n",
       "  </thead>\n",
       "  <tbody>\n",
       "    <tr>\n",
       "      <th>0</th>\n",
       "      <td>1</td>\n",
       "      <td>2.5</td>\n",
       "      <td>car</td>\n",
       "    </tr>\n",
       "    <tr>\n",
       "      <th>1</th>\n",
       "      <td>99</td>\n",
       "      <td>NaN</td>\n",
       "      <td>train</td>\n",
       "    </tr>\n",
       "    <tr>\n",
       "      <th>2</th>\n",
       "      <td>-4</td>\n",
       "      <td>-0.1</td>\n",
       "      <td>plane</td>\n",
       "    </tr>\n",
       "  </tbody>\n",
       "</table>\n",
       "</div>"
      ],
      "text/plain": [
       "    a    b      c\n",
       "0   1  2.5    car\n",
       "1  99  NaN  train\n",
       "2  -4 -0.1  plane"
      ]
     },
     "execution_count": 13,
     "metadata": {},
     "output_type": "execute_result"
    }
   ],
   "source": [
    "df"
   ]
  },
  {
   "cell_type": "code",
   "execution_count": 14,
   "metadata": {
    "collapsed": false
   },
   "outputs": [
    {
     "name": "stdout",
     "output_type": "stream",
     "text": [
      "<class 'pandas.core.frame.DataFrame'>\n",
      "RangeIndex: 3 entries, 0 to 2\n",
      "Data columns (total 3 columns):\n",
      "a    3 non-null int64\n",
      "b    2 non-null float64\n",
      "c    3 non-null object\n",
      "dtypes: float64(1), int64(1), object(1)\n",
      "memory usage: 152.0+ bytes\n"
     ]
    }
   ],
   "source": [
    "df.info()"
   ]
  },
  {
   "cell_type": "code",
   "execution_count": 15,
   "metadata": {
    "collapsed": false
   },
   "outputs": [
    {
     "data": {
      "text/plain": [
       "'{\"a\":{\"0\":1,\"1\":99,\"2\":-4},\"b\":{\"0\":2.5,\"1\":null,\"2\":-0.1},\"c\":{\"0\":\"car\",\"1\":\"train\",\"2\":\"plane\"}}'"
      ]
     },
     "execution_count": 15,
     "metadata": {},
     "output_type": "execute_result"
    }
   ],
   "source": [
    "# warning: \n",
    "df.to_json()"
   ]
  },
  {
   "cell_type": "code",
   "execution_count": 16,
   "metadata": {
    "collapsed": false
   },
   "outputs": [
    {
     "data": {
      "text/plain": [
       "'[{\"a\":1,\"b\":2.5,\"c\":\"car\"},{\"a\":99,\"b\":null,\"c\":\"train\"},{\"a\":-4,\"b\":-0.1,\"c\":\"plane\"}]'"
      ]
     },
     "execution_count": 16,
     "metadata": {},
     "output_type": "execute_result"
    }
   ],
   "source": [
    "df.to_json(orient=\"records\")"
   ]
  },
  {
   "cell_type": "code",
   "execution_count": 17,
   "metadata": {
    "collapsed": false
   },
   "outputs": [
    {
     "data": {
      "text/plain": [
       "[{'a': 1, 'b': 2.5, 'c': 'car'},\n",
       " {'a': 99, 'b': nan, 'c': 'train'},\n",
       " {'a': -4, 'b': -0.1, 'c': 'plane'}]"
      ]
     },
     "execution_count": 17,
     "metadata": {},
     "output_type": "execute_result"
    }
   ],
   "source": [
    "df.to_dict(\"records\")"
   ]
  },
  {
   "cell_type": "code",
   "execution_count": 18,
   "metadata": {
    "collapsed": false
   },
   "outputs": [
    {
     "data": {
      "text/plain": [
       "[{'a': 1, 'b': 2.5, 'c': 'car'},\n",
       " {'a': 99, 'b': nan, 'c': 'train'},\n",
       " {'a': -4, 'b': -0.1, 'c': 'plane'}]"
      ]
     },
     "execution_count": 18,
     "metadata": {},
     "output_type": "execute_result"
    }
   ],
   "source": [
    "# to show that it works we can export and import it again\n",
    "json.loads(json.dumps(df.to_dict(\"records\")))"
   ]
  },
  {
   "cell_type": "code",
   "execution_count": 19,
   "metadata": {
    "collapsed": false
   },
   "outputs": [
    {
     "data": {
      "text/plain": [
       "{'a': 0     1\n",
       " 1    99\n",
       " 2    -4\n",
       " Name: a, dtype: int64, 'b': 0    2.5\n",
       " 1    NaN\n",
       " 2   -0.1\n",
       " Name: b, dtype: float64, 'c': 0      car\n",
       " 1    train\n",
       " 2    plane\n",
       " Name: c, dtype: object}"
      ]
     },
     "execution_count": 19,
     "metadata": {},
     "output_type": "execute_result"
    }
   ],
   "source": [
    "df.to_dict(\"series\")"
   ]
  },
  {
   "cell_type": "markdown",
   "metadata": {},
   "source": [
    "## Exercises\n",
    "\n",
    "* Try other `df.to_dict` exports. What are the othert forms.\n",
    "* Try loading into Pandas a list of dictionaries, where:\n",
    "    * types are different (e.g. containing both `12` and `\"bridge\"`),\n",
    "    * there is a missing value among integers."
   ]
  },
  {
   "cell_type": "code",
   "execution_count": 20,
   "metadata": {
    "collapsed": true
   },
   "outputs": [],
   "source": [
    "z = [{\"a\": 12, \"b\": 99, \"c\": 19},\n",
    "     {\"a\": \"bridge\", \"c\": 19.5}]"
   ]
  },
  {
   "cell_type": "code",
   "execution_count": 21,
   "metadata": {
    "collapsed": false
   },
   "outputs": [
    {
     "data": {
      "text/html": [
       "<div>\n",
       "<table border=\"1\" class=\"dataframe\">\n",
       "  <thead>\n",
       "    <tr style=\"text-align: right;\">\n",
       "      <th></th>\n",
       "      <th>a</th>\n",
       "      <th>b</th>\n",
       "      <th>c</th>\n",
       "    </tr>\n",
       "  </thead>\n",
       "  <tbody>\n",
       "    <tr>\n",
       "      <th>0</th>\n",
       "      <td>12</td>\n",
       "      <td>99.0</td>\n",
       "      <td>19.0</td>\n",
       "    </tr>\n",
       "    <tr>\n",
       "      <th>1</th>\n",
       "      <td>bridge</td>\n",
       "      <td>NaN</td>\n",
       "      <td>19.5</td>\n",
       "    </tr>\n",
       "  </tbody>\n",
       "</table>\n",
       "</div>"
      ],
      "text/plain": [
       "        a     b     c\n",
       "0      12  99.0  19.0\n",
       "1  bridge   NaN  19.5"
      ]
     },
     "execution_count": 21,
     "metadata": {},
     "output_type": "execute_result"
    }
   ],
   "source": [
    "df = pd.DataFrame(z)\n",
    "df"
   ]
  },
  {
   "cell_type": "code",
   "execution_count": 22,
   "metadata": {
    "collapsed": false
   },
   "outputs": [
    {
     "name": "stdout",
     "output_type": "stream",
     "text": [
      "<class 'pandas.core.frame.DataFrame'>\n",
      "RangeIndex: 2 entries, 0 to 1\n",
      "Data columns (total 3 columns):\n",
      "a    2 non-null object\n",
      "b    1 non-null float64\n",
      "c    2 non-null float64\n",
      "dtypes: float64(2), object(1)\n",
      "memory usage: 128.0+ bytes\n"
     ]
    }
   ],
   "source": [
    "df.info()"
   ]
  },
  {
   "cell_type": "markdown",
   "metadata": {},
   "source": [
    "## Beware of\n",
    "\n",
    "* some objects can be exported to JSON in many different ways\n",
    "* implicit format changes (e.g. 2 -> 2.0)\n",
    "* the representation of missing values"
   ]
  },
  {
   "cell_type": "markdown",
   "metadata": {},
   "source": [
    "## Bonus\n",
    "\n",
    "We live in the Matrix: a Jupyter Notebook is a JSON file!\n",
    "\n",
    "Just open `*.ipynb` file in a text editor (e.g. Atom, Notepad++, Sublime Text, Vim)."
   ]
  },
  {
   "cell_type": "code",
   "execution_count": 23,
   "metadata": {
    "collapsed": false
   },
   "outputs": [],
   "source": [
    "this_file = json.load(open(\"4_json.ipynb\"))"
   ]
  },
  {
   "cell_type": "code",
   "execution_count": 24,
   "metadata": {
    "collapsed": false
   },
   "outputs": [
    {
     "data": {
      "text/plain": [
       "dict_keys(['cells', 'nbformat', 'metadata', 'nbformat_minor'])"
      ]
     },
     "execution_count": 24,
     "metadata": {},
     "output_type": "execute_result"
    }
   ],
   "source": [
    "this_file.keys()"
   ]
  },
  {
   "cell_type": "markdown",
   "metadata": {},
   "source": [
    "## Exercise\n",
    "\n",
    "* What is the number of cells in this file?\n",
    "* What is Python version we use in this file?\n",
    "* Look at a the content a a single cell."
   ]
  },
  {
   "cell_type": "code",
   "execution_count": 25,
   "metadata": {
    "collapsed": false
   },
   "outputs": [
    {
     "data": {
      "text/plain": [
       "35"
      ]
     },
     "execution_count": 25,
     "metadata": {},
     "output_type": "execute_result"
    }
   ],
   "source": [
    "len(this_file[\"cells\"])"
   ]
  },
  {
   "cell_type": "code",
   "execution_count": 26,
   "metadata": {
    "collapsed": false
   },
   "outputs": [
    {
     "data": {
      "text/plain": [
       "{'anaconda-cloud': {},\n",
       " 'kernelspec': {'display_name': 'Python [default]',\n",
       "  'language': 'python',\n",
       "  'name': 'python3'},\n",
       " 'language_info': {'codemirror_mode': {'name': 'ipython', 'version': 3},\n",
       "  'file_extension': '.py',\n",
       "  'mimetype': 'text/x-python',\n",
       "  'name': 'python',\n",
       "  'nbconvert_exporter': 'python',\n",
       "  'pygments_lexer': 'ipython3',\n",
       "  'version': '3.5.2'}}"
      ]
     },
     "execution_count": 26,
     "metadata": {},
     "output_type": "execute_result"
    }
   ],
   "source": [
    "this_file[\"metadata\"]"
   ]
  },
  {
   "cell_type": "code",
   "execution_count": 27,
   "metadata": {
    "collapsed": false
   },
   "outputs": [
    {
     "name": "stdout",
     "output_type": "stream",
     "text": [
      "{\n",
      "  \"anaconda-cloud\": {},\n",
      "  \"kernelspec\": {\n",
      "    \"display_name\": \"Python [default]\",\n",
      "    \"language\": \"python\",\n",
      "    \"name\": \"python3\"\n",
      "  },\n",
      "  \"language_info\": {\n",
      "    \"version\": \"3.5.2\",\n",
      "    \"name\": \"python\",\n",
      "    \"codemirror_mode\": {\n",
      "      \"name\": \"ipython\",\n",
      "      \"version\": 3\n",
      "    },\n",
      "    \"file_extension\": \".py\",\n",
      "    \"nbconvert_exporter\": \"python\",\n",
      "    \"pygments_lexer\": \"ipython3\",\n",
      "    \"mimetype\": \"text/x-python\"\n",
      "  }\n",
      "}\n"
     ]
    }
   ],
   "source": [
    "print(json.dumps(this_file[\"metadata\"], indent=2))"
   ]
  },
  {
   "cell_type": "code",
   "execution_count": null,
   "metadata": {
    "collapsed": true
   },
   "outputs": [],
   "source": []
  }
 ],
 "metadata": {
  "anaconda-cloud": {},
  "kernelspec": {
   "display_name": "Python [Root]",
   "language": "python",
   "name": "Python [Root]"
  },
  "language_info": {
   "codemirror_mode": {
    "name": "ipython",
    "version": 3
   },
   "file_extension": ".py",
   "mimetype": "text/x-python",
   "name": "python",
   "nbconvert_exporter": "python",
   "pygments_lexer": "ipython3",
   "version": "3.5.2"
  }
 },
 "nbformat": 4,
 "nbformat_minor": 1
}
