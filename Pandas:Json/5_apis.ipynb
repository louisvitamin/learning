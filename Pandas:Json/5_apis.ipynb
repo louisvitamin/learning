{
 "cells": [
  {
   "cell_type": "markdown",
   "metadata": {},
   "source": [
    "# Class 6 Notebook 3: JSON REST APIs\n",
    "\n",
    "Class 6 (5 Dec 2016) of [BS1804-1617 Fundamentals of Database Technologies](https://imperialbusiness.school/category/bs1804-1617/) by [Piotr Migdał](http://p.migdal.pl/)\n",
    "\n",
    "References:\n",
    "\n",
    "* [Representational state transfer (REST) - Wikipedia](https://en.wikipedia.org/wiki/Representational_state_transfer)\n",
    "* [Requests: HTTP for Humans](http://docs.python-requests.org/en/master/)\n",
    "* Examples:\n",
    "    * [Twitter API](https://dev.twitter.com/rest/reference/get/search/tweets) (require authentication)\n",
    "    * [Stack Exchange API](https://api.stackexchange.com/docs)\n",
    "        * https://api.stackexchange.com/docs/tags#pagesize=10&order=desc&sort=popular&filter=default&site=stackoverflow&run=true\n",
    "        * https://api.stackexchange.com/2.2/tags?pagesize=10&order=desc&sort=popular&site=stackoverflow\n",
    "\n",
    "    * [Google Geocoding API](https://developers.google.com/maps/documentation/geocoding/start)"
   ]
  },
  {
   "cell_type": "code",
   "execution_count": 1,
   "metadata": {
    "collapsed": true
   },
   "outputs": [],
   "source": [
    "# a library for accessing websites\n",
    "import requests"
   ]
  },
  {
   "cell_type": "code",
   "execution_count": 2,
   "metadata": {
    "collapsed": true
   },
   "outputs": [],
   "source": [
    "# let's start with Stack Exchange API\n",
    "# we can pass the whole address\n",
    "response = requests.get(\"https://api.stackexchange.com/2.2/tags?pagesize=10&order=desc&sort=popular&site=stackoverflow\")"
   ]
  },
  {
   "cell_type": "code",
   "execution_count": 3,
   "metadata": {
    "collapsed": true
   },
   "outputs": [],
   "source": [
    "# but it is more convenient to pass parameters as a dictionary\n",
    "response = requests.get(\"https://api.stackexchange.com/2.2/tags\",\n",
    "                        params={\"pagesize\": 10, \"order\": \"desc\", \"sort\": \"popular\", \"site\": \"stackoverflow\"})"
   ]
  },
  {
   "cell_type": "code",
   "execution_count": 4,
   "metadata": {
    "collapsed": false
   },
   "outputs": [
    {
     "data": {
      "text/plain": [
       "200"
      ]
     },
     "execution_count": 4,
     "metadata": {},
     "output_type": "execute_result"
    }
   ],
   "source": [
    "# response 200 means everything went fine\n",
    "response.status_code"
   ]
  },
  {
   "cell_type": "code",
   "execution_count": 5,
   "metadata": {
    "collapsed": false
   },
   "outputs": [
    {
     "data": {
      "text/plain": [
       "'{\"items\":[{\"has_synonyms\":true,\"is_moderator_only\":false,\"is_required\":false,\"count\":1270164,\"name\":\"javascript\"},{\"has_synonyms\":true,\"is_moderator_only\":false,\"is_required\":false,\"count\":1176075,\"name\":\"java\"},{\"has_synonyms\":true,\"is_moderator_only\":false,\"is_required\":false,\"count\":1032248,\"name\":\"c#\"},{\"has_synonyms\":true,\"is_moderator_only\":false,\"is_required\":false,\"count\":1006831,\"name\":\"php\"},{\"has_synonyms\":true,\"is_moderator_only\":false,\"is_required\":false,\"count\":922437,\"name\":\"android\"},{\"has_synonyms\":true,\"is_moderator_only\":false,\"is_required\":false,\"count\":795334,\"name\":\"jquery\"},{\"has_synonyms\":true,\"is_moderator_only\":false,\"is_required\":false,\"count\":666646,\"name\":\"python\"},{\"has_synonyms\":true,\"is_moderator_only\":false,\"is_required\":false,\"count\":600968,\"name\":\"html\"},{\"has_synonyms\":true,\"is_moderator_only\":false,\"is_required\":false,\"count\":485128,\"name\":\"c++\"},{\"has_synonyms\":true,\"is_moderator_only\":false,\"is_required\":false,\"count\":477215,\"name\":\"ios\"}],\"has_more\":true,\"quota_max\":300,\"quota_remaining\":287}'"
      ]
     },
     "execution_count": 5,
     "metadata": {},
     "output_type": "execute_result"
    }
   ],
   "source": [
    "# we can get the raw text\n",
    "response.text"
   ]
  },
  {
   "cell_type": "code",
   "execution_count": 6,
   "metadata": {
    "collapsed": false
   },
   "outputs": [],
   "source": [
    "# or convert it into JSON\n",
    "content = response.json()"
   ]
  },
  {
   "cell_type": "code",
   "execution_count": 7,
   "metadata": {
    "collapsed": false
   },
   "outputs": [
    {
     "data": {
      "text/plain": [
       "{'has_more': True,\n",
       " 'items': [{'count': 1270164,\n",
       "   'has_synonyms': True,\n",
       "   'is_moderator_only': False,\n",
       "   'is_required': False,\n",
       "   'name': 'javascript'},\n",
       "  {'count': 1176075,\n",
       "   'has_synonyms': True,\n",
       "   'is_moderator_only': False,\n",
       "   'is_required': False,\n",
       "   'name': 'java'},\n",
       "  {'count': 1032248,\n",
       "   'has_synonyms': True,\n",
       "   'is_moderator_only': False,\n",
       "   'is_required': False,\n",
       "   'name': 'c#'},\n",
       "  {'count': 1006831,\n",
       "   'has_synonyms': True,\n",
       "   'is_moderator_only': False,\n",
       "   'is_required': False,\n",
       "   'name': 'php'},\n",
       "  {'count': 922437,\n",
       "   'has_synonyms': True,\n",
       "   'is_moderator_only': False,\n",
       "   'is_required': False,\n",
       "   'name': 'android'},\n",
       "  {'count': 795334,\n",
       "   'has_synonyms': True,\n",
       "   'is_moderator_only': False,\n",
       "   'is_required': False,\n",
       "   'name': 'jquery'},\n",
       "  {'count': 666646,\n",
       "   'has_synonyms': True,\n",
       "   'is_moderator_only': False,\n",
       "   'is_required': False,\n",
       "   'name': 'python'},\n",
       "  {'count': 600968,\n",
       "   'has_synonyms': True,\n",
       "   'is_moderator_only': False,\n",
       "   'is_required': False,\n",
       "   'name': 'html'},\n",
       "  {'count': 485128,\n",
       "   'has_synonyms': True,\n",
       "   'is_moderator_only': False,\n",
       "   'is_required': False,\n",
       "   'name': 'c++'},\n",
       "  {'count': 477215,\n",
       "   'has_synonyms': True,\n",
       "   'is_moderator_only': False,\n",
       "   'is_required': False,\n",
       "   'name': 'ios'}],\n",
       " 'quota_max': 300,\n",
       " 'quota_remaining': 287}"
      ]
     },
     "execution_count": 7,
     "metadata": {},
     "output_type": "execute_result"
    }
   ],
   "source": [
    "content"
   ]
  },
  {
   "cell_type": "code",
   "execution_count": 8,
   "metadata": {
    "collapsed": false
   },
   "outputs": [
    {
     "data": {
      "text/plain": [
       "dict_keys(['items', 'quota_remaining', 'quota_max', 'has_more'])"
      ]
     },
     "execution_count": 8,
     "metadata": {},
     "output_type": "execute_result"
    }
   ],
   "source": [
    "# very often we want to start with looking at the keys\n",
    "content.keys()"
   ]
  },
  {
   "cell_type": "markdown",
   "metadata": {},
   "source": [
    "## Exercises\n",
    "\n",
    "* Stack Exchange\n",
    "    * Extract only tag names.\n",
    "    * Convert found items into a Pandas DataFrame (with columns: 'name', 'counts', etc).\n",
    "* Geocoding\n",
    "    * Try geocoding Imperial College Business School\n",
    "    * Get its latitute and longitude\n",
    "    * What is its altitude (look for a different API)\n",
    "    * (Advanced) Write a function, which needs takes one search string, and returns a dictionary of the first search result with:\n",
    "        * latitute,\n",
    "        * longitude,\n",
    "        * found name,\n",
    "        * postal code.\n",
    "    \n",
    "Hint: \n",
    "\n",
    "```\n",
    "r = requests.get(\"https://maps.googleapis.com/maps/api/geocode/json\",\n",
    "                 params={\"address\": \"some address\"})\n",
    "```"
   ]
  },
  {
   "cell_type": "code",
   "execution_count": 10,
   "metadata": {
    "collapsed": false
   },
   "outputs": [],
   "source": [
    "r = requests.get(\"https://maps.googleapis.com/maps/api/geocode/json\",\n",
    "                 params={\"address\": \"Imperial College Business School, London\"})"
   ]
  },
  {
   "cell_type": "code",
   "execution_count": 11,
   "metadata": {
    "collapsed": false
   },
   "outputs": [
    {
     "data": {
      "text/plain": [
       "{'results': [{'address_components': [{'long_name': 'London',\n",
       "     'short_name': 'London',\n",
       "     'types': ['locality', 'political']},\n",
       "    {'long_name': 'London', 'short_name': 'London', 'types': ['postal_town']},\n",
       "    {'long_name': 'Waltham Abbey',\n",
       "     'short_name': 'Waltham Abbey',\n",
       "     'types': ['administrative_area_level_4', 'political']},\n",
       "    {'long_name': 'Greater London',\n",
       "     'short_name': 'Greater London',\n",
       "     'types': ['administrative_area_level_2', 'political']},\n",
       "    {'long_name': 'England',\n",
       "     'short_name': 'England',\n",
       "     'types': ['administrative_area_level_1', 'political']},\n",
       "    {'long_name': 'United Kingdom',\n",
       "     'short_name': 'GB',\n",
       "     'types': ['country', 'political']}],\n",
       "   'formatted_address': 'London, UK',\n",
       "   'geometry': {'bounds': {'northeast': {'lat': 51.6723432, 'lng': 0.148271},\n",
       "     'southwest': {'lat': 51.38494009999999, 'lng': -0.3514683}},\n",
       "    'location': {'lat': 51.5073509, 'lng': -0.1277583},\n",
       "    'location_type': 'APPROXIMATE',\n",
       "    'viewport': {'northeast': {'lat': 51.6723432, 'lng': 0.148271},\n",
       "     'southwest': {'lat': 51.38494009999999, 'lng': -0.3514683}}},\n",
       "   'partial_match': True,\n",
       "   'place_id': 'ChIJdd4hrwug2EcRmSrV3Vo6llI',\n",
       "   'types': ['locality', 'political']}],\n",
       " 'status': 'OK'}"
      ]
     },
     "execution_count": 11,
     "metadata": {},
     "output_type": "execute_result"
    }
   ],
   "source": [
    "r.json()"
   ]
  },
  {
   "cell_type": "code",
   "execution_count": null,
   "metadata": {
    "collapsed": true
   },
   "outputs": [],
   "source": []
  }
 ],
 "metadata": {
  "anaconda-cloud": {},
  "kernelspec": {
   "display_name": "Python [default]",
   "language": "python",
   "name": "python3"
  },
  "language_info": {
   "codemirror_mode": {
    "name": "ipython",
    "version": 3
   },
   "file_extension": ".py",
   "mimetype": "text/x-python",
   "name": "python",
   "nbconvert_exporter": "python",
   "pygments_lexer": "ipython3",
   "version": "3.5.2"
  }
 },
 "nbformat": 4,
 "nbformat_minor": 1
}
