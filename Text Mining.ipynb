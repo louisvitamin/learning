{
 "cells": [
  {
   "cell_type": "markdown",
   "metadata": {},
   "source": [
    "## Data Collection  \n",
    "#### Web Crawler ( scrapy, beautifulsoup)\n",
    "\n",
    "\n",
    "1. Remove the unnessary part of the data. For example, keep the text and remove HTML Tag. (beautifulsoup + regex)  \n",
    "\n",
    "2. Encoding: Unicode <-> utf-8  \n",
    "3. Sentence tokenization  \n",
    "4. Word tokenization\n",
    "5. Correct misspelling \n",
    "6. POS tagging  \n",
    "7. Remove punctuation  \n",
    "8. Remove words with small length (len < 3)  \n",
    "9. Remove non-alpha words (\\W = not words)  \n",
    "10. Lowercase  \n",
    "11. Remove stopwords(and, or, I, ...)  \n",
    "12. Lemmatization/Stemming (wordnet from nltk)  \n",
    "13. Repeat step 8  \n",
    "14. Repeat step 9  \n",
    "\n",
    "\n",
    "## Bag-of-Words, language model( bi-gram, tri-gram)  \n",
    "\n",
    "## Training model (scikit.learn)\n",
    "#### clustering\n",
    "#### sentiment analysis\n",
    "#### Theme Detection： NMF, word2vec  \n",
    "### Draw results:  \n",
    "#### Matplotlib"
   ]
  },
  {
   "cell_type": "code",
   "execution_count": null,
   "metadata": {
    "collapsed": true
   },
   "outputs": [],
   "source": []
  }
 ],
 "metadata": {
  "kernelspec": {
   "display_name": "Python [conda root]",
   "language": "python",
   "name": "conda-root-py"
  },
  "language_info": {
   "codemirror_mode": {
    "name": "ipython",
    "version": 3
   },
   "file_extension": ".py",
   "mimetype": "text/x-python",
   "name": "python",
   "nbconvert_exporter": "python",
   "pygments_lexer": "ipython3",
   "version": "3.5.2"
  }
 },
 "nbformat": 4,
 "nbformat_minor": 1
}
